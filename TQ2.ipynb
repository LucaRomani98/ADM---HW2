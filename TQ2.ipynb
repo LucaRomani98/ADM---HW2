{
 "cells": [
  {
   "cell_type": "code",
   "execution_count": 1,
   "id": "b3bcfa3f-a30e-427d-a5a3-2ffe178ff692",
   "metadata": {},
   "outputs": [],
   "source": [
    "def splitSwap(a, l, n):\n",
    "    if n <= 1:\n",
    "        return\n",
    "    splitSwap(a, l, n/2)\n",
    "    splitSwap(a, l + n /2, n/2)\n",
    "    swapList(a, l, n)"
   ]
  },
  {
   "cell_type": "code",
   "execution_count": null,
   "id": "3777e95f-cd1f-466d-9b43-320c49794e6b",
   "metadata": {},
   "outputs": [],
   "source": [
    "# splitSwap\n",
    "# if n <= 1 => 1 time ?\n",
    "# return => 1 time\n",
    "# splitSwap(a, l, n/2) => 1 time\n",
    "# splitSwap(a, l+ n /2, n/2) => 1 time\n",
    "# swapList(a, l, n) => 1 time\n",
    "\n",
    "# Total times = 4 times, which means this is O(c) (this is wrong, in my opinion)\n",
    "\n",
    "# It seems a binary research. This function doesn't search into the entire array, but\n",
    "# it iterates recursively the same function in two times: \n",
    "# before on the left sub-array and then on the right one.\n",
    "# When the function starts again, for example only on the left sub-array, it also starts the function on the right\n",
    "# and left sub-array of the left sub-array.\n",
    "# In other words, it splits in a lot of little pieces the array, in order to split the array in many single positions.\n",
    "# When this item ends, it can start the second function (swapList), which controls and swaps all the opposit positions\n",
    "# in the center of the array, and gradually it combines them, starting with the ones with small dimension and arriving to\n",
    "# the biggest one.\n",
    "\n",
    "\n",
    "# About the complexity: since there's a binary research, it can't be n. It's O(log n).   "
   ]
  },
  {
   "cell_type": "code",
   "execution_count": 3,
   "id": "c55eb7bf-1044-4d3a-8efc-e8a851c5b4f4",
   "metadata": {},
   "outputs": [],
   "source": [
    "def swapList(a, l, n):\n",
    "    for i in range(n/2):\n",
    "        tmp = a[l + i]\n",
    "        a[l + i] = a[l + n/2 + i]\n",
    "        a[l + n/2 + i] = tmp"
   ]
  },
  {
   "cell_type": "code",
   "execution_count": 5,
   "id": "b097b43c-b97e-4540-8bca-8d0ff803342c",
   "metadata": {},
   "outputs": [],
   "source": [
    "# swapList:\n",
    "# for i=0 to n/2 => (n/2)+1 times\n",
    "# tmp = a[l+i] => 1 time\n",
    "# a[l + i] = a[l + n/2 + i] => i times\n",
    "# a[l + n/2 + i] = tmp  => i times\n",
    "\n",
    "# Total times = [(n/2)+1] + 1 + [n(n-1)/2], so it's easy to show O(n^2) because T(n) = O(sum i) <= O(sum n) = O(n^2)\n",
    "# but if I want to show T(n) = O(sum i, for i from 1 to n), I need to show T(n) = Omega too.\n",
    "# Basically: T(n) = Omega(sum i, for i from 1 to n)\n",
    "# 1) sum(i, for i from 1 to n) >= sum(1, for i from 1 to n) = n => T(n) = Omega(n) \n",
    "# 2) T(n) = sum(i, for i from 1 to n) >= sum(i, for i from n/2 to n) >= sum(n/2, for i from n/2 to n) = (n^2/4) =>\n",
    "#    => T(n) = Omega(n^2)\n",
    "# 1) + 2) => T(n) = Theta(n^2) = RUNNING TIME"
   ]
  }
 ],
 "metadata": {
  "kernelspec": {
   "display_name": "Python 3",
   "language": "python",
   "name": "python3"
  },
  "language_info": {
   "codemirror_mode": {
    "name": "ipython",
    "version": 3
   },
   "file_extension": ".py",
   "mimetype": "text/x-python",
   "name": "python",
   "nbconvert_exporter": "python",
   "pygments_lexer": "ipython3",
   "version": "3.8.8"
  }
 },
 "nbformat": 4,
 "nbformat_minor": 5
}
