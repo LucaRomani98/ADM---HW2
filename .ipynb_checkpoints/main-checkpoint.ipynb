{
 "cells": [
  {
   "cell_type": "code",
   "execution_count": 42,
   "id": "e635b68f",
   "metadata": {},
   "outputs": [],
   "source": [
    "import pandas as pd\n",
    "import seaborn as sns\n",
    "import numpy as np\n",
    "import random\n",
    "# functions\n",
    "\n",
    "%matplotlib inline\n",
    "import matplotlib.pyplot as plt\n",
    "\n",
    "import datetime\n",
    "import time\n",
    "\n",
    "from scipy.stats import chi2_contingency, ttest_ind ,chisquare, kruskal, pearsonr"
   ]
  },
  {
   "cell_type": "code",
   "execution_count": 2,
   "id": "7f8e188d",
   "metadata": {},
   "outputs": [],
   "source": [
    "def dateparse(time_in_secs):\n",
    "    return pd.to_datetime(time_in_secs, unit='s')"
   ]
  },
  {
   "cell_type": "code",
   "execution_count": 6,
   "id": "e4201f95",
   "metadata": {},
   "outputs": [],
   "source": [
    "dataset = pd.read_csv('steam_reviews.csv', header='infer',\n",
    "nrows=1000000,\n",
    "parse_dates=['timestamp_created',\n",
    "'timestamp_updated', 'author.last_played'],\n",
    "date_parser=dateparse)"
   ]
  },
  {
   "cell_type": "code",
   "execution_count": 7,
   "id": "9b1ff39b",
   "metadata": {},
   "outputs": [
    {
     "data": {
      "text/html": [
       "<div>\n",
       "<style scoped>\n",
       "    .dataframe tbody tr th:only-of-type {\n",
       "        vertical-align: middle;\n",
       "    }\n",
       "\n",
       "    .dataframe tbody tr th {\n",
       "        vertical-align: top;\n",
       "    }\n",
       "\n",
       "    .dataframe thead th {\n",
       "        text-align: right;\n",
       "    }\n",
       "</style>\n",
       "<table border=\"1\" class=\"dataframe\">\n",
       "  <thead>\n",
       "    <tr style=\"text-align: right;\">\n",
       "      <th></th>\n",
       "      <th>Unnamed: 0</th>\n",
       "      <th>app_id</th>\n",
       "      <th>app_name</th>\n",
       "      <th>review_id</th>\n",
       "      <th>language</th>\n",
       "      <th>review</th>\n",
       "      <th>timestamp_created</th>\n",
       "      <th>timestamp_updated</th>\n",
       "      <th>recommended</th>\n",
       "      <th>votes_helpful</th>\n",
       "      <th>...</th>\n",
       "      <th>steam_purchase</th>\n",
       "      <th>received_for_free</th>\n",
       "      <th>written_during_early_access</th>\n",
       "      <th>author.steamid</th>\n",
       "      <th>author.num_games_owned</th>\n",
       "      <th>author.num_reviews</th>\n",
       "      <th>author.playtime_forever</th>\n",
       "      <th>author.playtime_last_two_weeks</th>\n",
       "      <th>author.playtime_at_review</th>\n",
       "      <th>author.last_played</th>\n",
       "    </tr>\n",
       "  </thead>\n",
       "  <tbody>\n",
       "    <tr>\n",
       "      <th>0</th>\n",
       "      <td>0</td>\n",
       "      <td>292030</td>\n",
       "      <td>The Witcher 3: Wild Hunt</td>\n",
       "      <td>85185598</td>\n",
       "      <td>schinese</td>\n",
       "      <td>不玩此生遗憾，RPG游戏里的天花板，太吸引人了</td>\n",
       "      <td>2021-01-23 06:00:29</td>\n",
       "      <td>2021-01-23 06:00:29</td>\n",
       "      <td>True</td>\n",
       "      <td>0</td>\n",
       "      <td>...</td>\n",
       "      <td>True</td>\n",
       "      <td>False</td>\n",
       "      <td>False</td>\n",
       "      <td>76561199095369542</td>\n",
       "      <td>6</td>\n",
       "      <td>2</td>\n",
       "      <td>1909.0</td>\n",
       "      <td>1448.0</td>\n",
       "      <td>1909.0</td>\n",
       "      <td>2021-01-22 19:23:03</td>\n",
       "    </tr>\n",
       "    <tr>\n",
       "      <th>1</th>\n",
       "      <td>1</td>\n",
       "      <td>292030</td>\n",
       "      <td>The Witcher 3: Wild Hunt</td>\n",
       "      <td>85185250</td>\n",
       "      <td>schinese</td>\n",
       "      <td>拔DIAO无情打桩机--杰洛特!!!</td>\n",
       "      <td>2021-01-23 05:50:30</td>\n",
       "      <td>2021-01-23 05:50:30</td>\n",
       "      <td>True</td>\n",
       "      <td>0</td>\n",
       "      <td>...</td>\n",
       "      <td>True</td>\n",
       "      <td>False</td>\n",
       "      <td>False</td>\n",
       "      <td>76561198949504115</td>\n",
       "      <td>30</td>\n",
       "      <td>10</td>\n",
       "      <td>2764.0</td>\n",
       "      <td>2743.0</td>\n",
       "      <td>2674.0</td>\n",
       "      <td>2021-01-23 07:18:27</td>\n",
       "    </tr>\n",
       "    <tr>\n",
       "      <th>2</th>\n",
       "      <td>2</td>\n",
       "      <td>292030</td>\n",
       "      <td>The Witcher 3: Wild Hunt</td>\n",
       "      <td>85185111</td>\n",
       "      <td>schinese</td>\n",
       "      <td>巫师3NB</td>\n",
       "      <td>2021-01-23 05:46:40</td>\n",
       "      <td>2021-01-23 05:46:40</td>\n",
       "      <td>True</td>\n",
       "      <td>0</td>\n",
       "      <td>...</td>\n",
       "      <td>True</td>\n",
       "      <td>False</td>\n",
       "      <td>False</td>\n",
       "      <td>76561199090098988</td>\n",
       "      <td>5</td>\n",
       "      <td>1</td>\n",
       "      <td>1061.0</td>\n",
       "      <td>1061.0</td>\n",
       "      <td>1060.0</td>\n",
       "      <td>2021-01-23 06:36:17</td>\n",
       "    </tr>\n",
       "    <tr>\n",
       "      <th>3</th>\n",
       "      <td>3</td>\n",
       "      <td>292030</td>\n",
       "      <td>The Witcher 3: Wild Hunt</td>\n",
       "      <td>85184605</td>\n",
       "      <td>english</td>\n",
       "      <td>One of the best RPG's of all time, worthy of a...</td>\n",
       "      <td>2021-01-23 05:32:50</td>\n",
       "      <td>2021-01-23 05:32:50</td>\n",
       "      <td>True</td>\n",
       "      <td>0</td>\n",
       "      <td>...</td>\n",
       "      <td>True</td>\n",
       "      <td>False</td>\n",
       "      <td>False</td>\n",
       "      <td>76561199054755373</td>\n",
       "      <td>5</td>\n",
       "      <td>3</td>\n",
       "      <td>5587.0</td>\n",
       "      <td>3200.0</td>\n",
       "      <td>5524.0</td>\n",
       "      <td>2021-01-23 06:35:44</td>\n",
       "    </tr>\n",
       "    <tr>\n",
       "      <th>4</th>\n",
       "      <td>4</td>\n",
       "      <td>292030</td>\n",
       "      <td>The Witcher 3: Wild Hunt</td>\n",
       "      <td>85184287</td>\n",
       "      <td>schinese</td>\n",
       "      <td>大作</td>\n",
       "      <td>2021-01-23 05:23:47</td>\n",
       "      <td>2021-01-23 05:23:47</td>\n",
       "      <td>True</td>\n",
       "      <td>0</td>\n",
       "      <td>...</td>\n",
       "      <td>True</td>\n",
       "      <td>False</td>\n",
       "      <td>False</td>\n",
       "      <td>76561199028326951</td>\n",
       "      <td>7</td>\n",
       "      <td>4</td>\n",
       "      <td>217.0</td>\n",
       "      <td>42.0</td>\n",
       "      <td>217.0</td>\n",
       "      <td>2021-01-16 09:10:49</td>\n",
       "    </tr>\n",
       "    <tr>\n",
       "      <th>...</th>\n",
       "      <td>...</td>\n",
       "      <td>...</td>\n",
       "      <td>...</td>\n",
       "      <td>...</td>\n",
       "      <td>...</td>\n",
       "      <td>...</td>\n",
       "      <td>...</td>\n",
       "      <td>...</td>\n",
       "      <td>...</td>\n",
       "      <td>...</td>\n",
       "      <td>...</td>\n",
       "      <td>...</td>\n",
       "      <td>...</td>\n",
       "      <td>...</td>\n",
       "      <td>...</td>\n",
       "      <td>...</td>\n",
       "      <td>...</td>\n",
       "      <td>...</td>\n",
       "      <td>...</td>\n",
       "      <td>...</td>\n",
       "      <td>...</td>\n",
       "    </tr>\n",
       "    <tr>\n",
       "      <th>999995</th>\n",
       "      <td>999996</td>\n",
       "      <td>4000</td>\n",
       "      <td>Garry's Mod</td>\n",
       "      <td>71813587</td>\n",
       "      <td>russian</td>\n",
       "      <td>Игра классная но иногда надо делать перерывы)</td>\n",
       "      <td>2020-07-01 15:22:55</td>\n",
       "      <td>2020-07-01 15:22:55</td>\n",
       "      <td>True</td>\n",
       "      <td>0</td>\n",
       "      <td>...</td>\n",
       "      <td>True</td>\n",
       "      <td>False</td>\n",
       "      <td>False</td>\n",
       "      <td>76561198998553816</td>\n",
       "      <td>8</td>\n",
       "      <td>4</td>\n",
       "      <td>11407.0</td>\n",
       "      <td>0.0</td>\n",
       "      <td>6384.0</td>\n",
       "      <td>2020-12-31 18:45:53</td>\n",
       "    </tr>\n",
       "    <tr>\n",
       "      <th>999996</th>\n",
       "      <td>999997</td>\n",
       "      <td>4000</td>\n",
       "      <td>Garry's Mod</td>\n",
       "      <td>71813556</td>\n",
       "      <td>english</td>\n",
       "      <td>I mean it's a game</td>\n",
       "      <td>2020-07-01 15:22:16</td>\n",
       "      <td>2020-07-01 15:22:16</td>\n",
       "      <td>True</td>\n",
       "      <td>0</td>\n",
       "      <td>...</td>\n",
       "      <td>True</td>\n",
       "      <td>False</td>\n",
       "      <td>False</td>\n",
       "      <td>76561198262900710</td>\n",
       "      <td>76</td>\n",
       "      <td>14</td>\n",
       "      <td>7129.0</td>\n",
       "      <td>0.0</td>\n",
       "      <td>6933.0</td>\n",
       "      <td>2020-12-12 17:40:30</td>\n",
       "    </tr>\n",
       "    <tr>\n",
       "      <th>999997</th>\n",
       "      <td>999998</td>\n",
       "      <td>4000</td>\n",
       "      <td>Garry's Mod</td>\n",
       "      <td>71813511</td>\n",
       "      <td>english</td>\n",
       "      <td>.</td>\n",
       "      <td>2020-07-01 15:21:39</td>\n",
       "      <td>2020-07-01 15:21:39</td>\n",
       "      <td>True</td>\n",
       "      <td>0</td>\n",
       "      <td>...</td>\n",
       "      <td>True</td>\n",
       "      <td>False</td>\n",
       "      <td>False</td>\n",
       "      <td>76561199053527564</td>\n",
       "      <td>3</td>\n",
       "      <td>1</td>\n",
       "      <td>566.0</td>\n",
       "      <td>0.0</td>\n",
       "      <td>490.0</td>\n",
       "      <td>2020-07-01 19:52:44</td>\n",
       "    </tr>\n",
       "    <tr>\n",
       "      <th>999998</th>\n",
       "      <td>999999</td>\n",
       "      <td>4000</td>\n",
       "      <td>Garry's Mod</td>\n",
       "      <td>71813331</td>\n",
       "      <td>swedish</td>\n",
       "      <td>Ofc its a great game, facepunch made it, lol?</td>\n",
       "      <td>2020-07-01 15:19:10</td>\n",
       "      <td>2020-07-01 15:19:10</td>\n",
       "      <td>True</td>\n",
       "      <td>0</td>\n",
       "      <td>...</td>\n",
       "      <td>True</td>\n",
       "      <td>False</td>\n",
       "      <td>False</td>\n",
       "      <td>76561198201005063</td>\n",
       "      <td>147</td>\n",
       "      <td>23</td>\n",
       "      <td>1685.0</td>\n",
       "      <td>0.0</td>\n",
       "      <td>509.0</td>\n",
       "      <td>2020-07-19 12:03:46</td>\n",
       "    </tr>\n",
       "    <tr>\n",
       "      <th>999999</th>\n",
       "      <td>1000000</td>\n",
       "      <td>4000</td>\n",
       "      <td>Garry's Mod</td>\n",
       "      <td>71813284</td>\n",
       "      <td>russian</td>\n",
       "      <td>Тупа можно писюны строить.</td>\n",
       "      <td>2020-07-01 15:18:35</td>\n",
       "      <td>2020-07-01 15:18:35</td>\n",
       "      <td>True</td>\n",
       "      <td>0</td>\n",
       "      <td>...</td>\n",
       "      <td>False</td>\n",
       "      <td>False</td>\n",
       "      <td>False</td>\n",
       "      <td>76561198131387789</td>\n",
       "      <td>19</td>\n",
       "      <td>2</td>\n",
       "      <td>8974.0</td>\n",
       "      <td>0.0</td>\n",
       "      <td>8533.0</td>\n",
       "      <td>2020-07-07 14:13:29</td>\n",
       "    </tr>\n",
       "  </tbody>\n",
       "</table>\n",
       "<p>1000000 rows × 23 columns</p>\n",
       "</div>"
      ],
      "text/plain": [
       "        Unnamed: 0  app_id                  app_name  review_id  language  \\\n",
       "0                0  292030  The Witcher 3: Wild Hunt   85185598  schinese   \n",
       "1                1  292030  The Witcher 3: Wild Hunt   85185250  schinese   \n",
       "2                2  292030  The Witcher 3: Wild Hunt   85185111  schinese   \n",
       "3                3  292030  The Witcher 3: Wild Hunt   85184605   english   \n",
       "4                4  292030  The Witcher 3: Wild Hunt   85184287  schinese   \n",
       "...            ...     ...                       ...        ...       ...   \n",
       "999995      999996    4000               Garry's Mod   71813587   russian   \n",
       "999996      999997    4000               Garry's Mod   71813556   english   \n",
       "999997      999998    4000               Garry's Mod   71813511   english   \n",
       "999998      999999    4000               Garry's Mod   71813331   swedish   \n",
       "999999     1000000    4000               Garry's Mod   71813284   russian   \n",
       "\n",
       "                                                   review   timestamp_created  \\\n",
       "0                                 不玩此生遗憾，RPG游戏里的天花板，太吸引人了 2021-01-23 06:00:29   \n",
       "1                                      拔DIAO无情打桩机--杰洛特!!! 2021-01-23 05:50:30   \n",
       "2                                                   巫师3NB 2021-01-23 05:46:40   \n",
       "3       One of the best RPG's of all time, worthy of a... 2021-01-23 05:32:50   \n",
       "4                                                      大作 2021-01-23 05:23:47   \n",
       "...                                                   ...                 ...   \n",
       "999995      Игра классная но иногда надо делать перерывы) 2020-07-01 15:22:55   \n",
       "999996                                 I mean it's a game 2020-07-01 15:22:16   \n",
       "999997                                                  . 2020-07-01 15:21:39   \n",
       "999998      Ofc its a great game, facepunch made it, lol? 2020-07-01 15:19:10   \n",
       "999999                         Тупа можно писюны строить. 2020-07-01 15:18:35   \n",
       "\n",
       "         timestamp_updated  recommended  votes_helpful  ...  steam_purchase  \\\n",
       "0      2021-01-23 06:00:29         True              0  ...            True   \n",
       "1      2021-01-23 05:50:30         True              0  ...            True   \n",
       "2      2021-01-23 05:46:40         True              0  ...            True   \n",
       "3      2021-01-23 05:32:50         True              0  ...            True   \n",
       "4      2021-01-23 05:23:47         True              0  ...            True   \n",
       "...                    ...          ...            ...  ...             ...   \n",
       "999995 2020-07-01 15:22:55         True              0  ...            True   \n",
       "999996 2020-07-01 15:22:16         True              0  ...            True   \n",
       "999997 2020-07-01 15:21:39         True              0  ...            True   \n",
       "999998 2020-07-01 15:19:10         True              0  ...            True   \n",
       "999999 2020-07-01 15:18:35         True              0  ...           False   \n",
       "\n",
       "        received_for_free  written_during_early_access     author.steamid  \\\n",
       "0                   False                        False  76561199095369542   \n",
       "1                   False                        False  76561198949504115   \n",
       "2                   False                        False  76561199090098988   \n",
       "3                   False                        False  76561199054755373   \n",
       "4                   False                        False  76561199028326951   \n",
       "...                   ...                          ...                ...   \n",
       "999995              False                        False  76561198998553816   \n",
       "999996              False                        False  76561198262900710   \n",
       "999997              False                        False  76561199053527564   \n",
       "999998              False                        False  76561198201005063   \n",
       "999999              False                        False  76561198131387789   \n",
       "\n",
       "        author.num_games_owned  author.num_reviews  author.playtime_forever  \\\n",
       "0                            6                   2                   1909.0   \n",
       "1                           30                  10                   2764.0   \n",
       "2                            5                   1                   1061.0   \n",
       "3                            5                   3                   5587.0   \n",
       "4                            7                   4                    217.0   \n",
       "...                        ...                 ...                      ...   \n",
       "999995                       8                   4                  11407.0   \n",
       "999996                      76                  14                   7129.0   \n",
       "999997                       3                   1                    566.0   \n",
       "999998                     147                  23                   1685.0   \n",
       "999999                      19                   2                   8974.0   \n",
       "\n",
       "        author.playtime_last_two_weeks  author.playtime_at_review  \\\n",
       "0                               1448.0                     1909.0   \n",
       "1                               2743.0                     2674.0   \n",
       "2                               1061.0                     1060.0   \n",
       "3                               3200.0                     5524.0   \n",
       "4                                 42.0                      217.0   \n",
       "...                                ...                        ...   \n",
       "999995                             0.0                     6384.0   \n",
       "999996                             0.0                     6933.0   \n",
       "999997                             0.0                      490.0   \n",
       "999998                             0.0                      509.0   \n",
       "999999                             0.0                     8533.0   \n",
       "\n",
       "        author.last_played  \n",
       "0      2021-01-22 19:23:03  \n",
       "1      2021-01-23 07:18:27  \n",
       "2      2021-01-23 06:36:17  \n",
       "3      2021-01-23 06:35:44  \n",
       "4      2021-01-16 09:10:49  \n",
       "...                    ...  \n",
       "999995 2020-12-31 18:45:53  \n",
       "999996 2020-12-12 17:40:30  \n",
       "999997 2020-07-01 19:52:44  \n",
       "999998 2020-07-19 12:03:46  \n",
       "999999 2020-07-07 14:13:29  \n",
       "\n",
       "[1000000 rows x 23 columns]"
      ]
     },
     "execution_count": 7,
     "metadata": {},
     "output_type": "execute_result"
    }
   ],
   "source": [
    "dataset\n"
   ]
  },
  {
   "cell_type": "code",
   "execution_count": 20,
   "id": "7bfe85b5",
   "metadata": {},
   "outputs": [
    {
     "data": {
      "text/plain": [
       "Index(['Unnamed: 0', 'app_id', 'app_name', 'review_id', 'language', 'review',\n",
       "       'timestamp_created', 'timestamp_updated', 'recommended',\n",
       "       'votes_helpful', 'votes_funny', 'weighted_vote_score', 'comment_count',\n",
       "       'steam_purchase', 'received_for_free', 'written_during_early_access',\n",
       "       'author.steamid', 'author.num_games_owned', 'author.num_reviews',\n",
       "       'author.playtime_forever', 'author.playtime_last_two_weeks',\n",
       "       'author.playtime_at_review', 'author.last_played'],\n",
       "      dtype='object')"
      ]
     },
     "execution_count": 20,
     "metadata": {},
     "output_type": "execute_result"
    }
   ],
   "source": [
    "dataset.columns"
   ]
  },
  {
   "cell_type": "code",
   "execution_count": 17,
   "id": "506a5036",
   "metadata": {},
   "outputs": [
    {
     "data": {
      "text/plain": [
       "<AxesSubplot:>"
      ]
     },
     "execution_count": 17,
     "metadata": {},
     "output_type": "execute_result"
    },
    {
     "data": {
      "image/png": "[encoded data removed]",
      "text/plain": [
       "<Figure size 1944x576 with 1 Axes>"
      ]
     },
     "metadata": {
      "needs_background": "light"
     },
     "output_type": "display_data"
    }
   ],
   "source": [
    "dataset['app_name'].value_counts().plot.bar(figsize = (27,8))"
   ]
  },
  {
   "cell_type": "code",
   "execution_count": 18,
   "id": "6b14d947",
   "metadata": {},
   "outputs": [
    {
     "data": {
      "text/plain": [
       "app_name                  recommended\n",
       "Counter-Strike: Source    True           113430\n",
       "                          False            4651\n",
       "Garry's Mod               True            89588\n",
       "                          False            2786\n",
       "Half-Life                 True            55312\n",
       "                          False            2008\n",
       "Half-Life 2: Episode Two  True            22704\n",
       "                          False             796\n",
       "Portal 2                  True           229470\n",
       "                          False            2859\n",
       "The Witcher 3: Wild Hunt  True           460252\n",
       "                          False            9143\n",
       "X Rebirth                 False            4031\n",
       "                          True             2970\n",
       "Name: recommended, dtype: int64"
      ]
     },
     "execution_count": 18,
     "metadata": {},
     "output_type": "execute_result"
    }
   ],
   "source": [
    "dataset.groupby('app_name')['recommended'].value_counts()"
   ]
  },
  {
   "cell_type": "code",
   "execution_count": 16,
   "id": "bb7a66da",
   "metadata": {},
   "outputs": [
    {
     "data": {
      "text/plain": [
       "app_name\n",
       "Counter-Strike: Source      113430\n",
       "Garry's Mod                  89588\n",
       "Half-Life                    55312\n",
       "Half-Life 2: Episode Two     22704\n",
       "Portal 2                    229470\n",
       "The Witcher 3: Wild Hunt    460252\n",
       "X Rebirth                     2970\n",
       "Name: recommended, dtype: int64"
      ]
     },
     "execution_count": 16,
     "metadata": {},
     "output_type": "execute_result"
    }
   ],
   "source": [
    "dataset.groupby('app_name').recommended.sum()"
   ]
  },
  {
   "cell_type": "code",
   "execution_count": 21,
   "id": "2d5531b7",
   "metadata": {},
   "outputs": [
    {
     "data": {
      "text/plain": [
       "False    463647\n",
       "True       5748\n",
       "Name: received_for_free, dtype: int64"
      ]
     },
     "execution_count": 21,
     "metadata": {},
     "output_type": "execute_result"
    }
   ],
   "source": [
    "dataset[dataset['app_name']==\"The Witcher 3: Wild Hunt\"]['received_for_free'].value_counts()"
   ]
  },
  {
   "cell_type": "code",
   "execution_count": 22,
   "id": "0320f06d",
   "metadata": {},
   "outputs": [
    {
     "data": {
      "text/plain": [
       "False    112999\n",
       "True       5082\n",
       "Name: received_for_free, dtype: int64"
      ]
     },
     "execution_count": 22,
     "metadata": {},
     "output_type": "execute_result"
    }
   ],
   "source": [
    "dataset[dataset['app_name']==\"Counter-Strike: Source\"]['received_for_free'].value_counts()"
   ]
  },
  {
   "cell_type": "code",
   "execution_count": 27,
   "id": "2442d997",
   "metadata": {},
   "outputs": [
    {
     "data": {
      "text/plain": [
       "<AxesSubplot:>"
      ]
     },
     "execution_count": 27,
     "metadata": {},
     "output_type": "execute_result"
    },
    {
     "data": {
      "image/png": "[encoded data removed]",
      "text/plain": [
       "<Figure size 1944x576 with 1 Axes>"
      ]
     },
     "metadata": {
      "needs_background": "light"
     },
     "output_type": "display_data"
    }
   ],
   "source": [
    "dataset['language'].value_counts().plot.bar(figsize = (27,8))"
   ]
  },
  {
   "cell_type": "code",
   "execution_count": 62,
   "id": "800f82fa",
   "metadata": {},
   "outputs": [],
   "source": [
    "def filter_by_language(my_dataset, language_list):\n",
    "    new_dataset = my_dataset[my_dataset['language'].isin(language_list)]\n",
    "    return new_dataset"
   ]
  },
  {
   "cell_type": "code",
   "execution_count": 63,
   "id": "6cbfe7cb",
   "metadata": {},
   "outputs": [],
   "source": [
    "language_list = ['english', 'russian', 'schinese']\n",
    "filt_ds = filter_by_language(dataset,language_list)"
   ]
  },
  {
   "cell_type": "code",
   "execution_count": 81,
   "id": "a71965f7",
   "metadata": {},
   "outputs": [
    {
     "name": "stdout",
     "output_type": "stream",
     "text": [
      "0.09688186971294103\n"
     ]
    }
   ],
   "source": [
    "vfn= filt_ds[filt_ds['votes_funny'] != 0].shape[0] #number of reviews with a funny vote number greater than 0\n",
    "\n",
    "vote_funny_percentage = vfn/filt_ds.shape[0]\n",
    "print(vote_funny_percentage)"
   ]
  },
  {
   "cell_type": "code",
   "execution_count": 83,
   "id": "d548e4d3",
   "metadata": {},
   "outputs": [
    {
     "name": "stdout",
     "output_type": "stream",
     "text": [
      "0.2613812537035169\n"
     ]
    }
   ],
   "source": [
    "vhn= filt_ds[filt_ds['votes_helpful'] != 0].shape[0] #number of reviews with a funny vote number greater than 0\n",
    "\n",
    "vote_helpful_percentage = vhn/filt_ds.shape[0]\n",
    "print(vote_helpful_percentage)"
   ]
  },
  {
   "cell_type": "code",
   "execution_count": null,
   "id": "ca2a4e13",
   "metadata": {},
   "outputs": [],
   "source": []
  }
 ],
 "metadata": {
  "kernelspec": {
   "display_name": "Python 3",
   "language": "python",
   "name": "python3"
  },
  "language_info": {
   "codemirror_mode": {
    "name": "ipython",
    "version": 3
   },
   "file_extension": ".py",
   "mimetype": "text/x-python",
   "name": "python",
   "nbconvert_exporter": "python",
   "pygments_lexer": "ipython3",
   "version": "3.8.8"
  }
 },
 "nbformat": 4,
 "nbformat_minor": 5
}
