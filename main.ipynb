{
 "cells": [
  {
   "cell_type": "markdown",
   "id": "fe313820",
   "metadata": {},
   "source": [
    "# Homework 2 - Steam Reviews 2021"
   ]
  },
  {
   "cell_type": "markdown",
   "id": "3a50d26c",
   "metadata": {},
   "source": [
    "### Libraries"
   ]
  },
  {
   "cell_type": "code",
   "execution_count": 2,
   "id": "5a55699f",
   "metadata": {},
   "outputs": [],
   "source": [
    "import pandas as pd\n",
    "import numpy as np\n",
    "from functions import *\n",
    "import imp\n",
    "\n",
    "%matplotlib inline\n",
    "import matplotlib.pyplot as plt\n",
    "\n",
    "import datetime as dt\n",
    "import time\n",
    "\n",
    "from scipy.stats import chi2_contingency, ttest_ind ,chisquare, kruskal, pearsonr"
   ]
  },
  {
   "cell_type": "code",
   "execution_count": 3,
   "id": "a3913b83",
   "metadata": {},
   "outputs": [],
   "source": [
    "dataset = load_csv()"
   ]
  },
  {
   "cell_type": "markdown",
   "id": "c081416d",
   "metadata": {},
   "source": [
    "## [RQ1] Exploratory Data Analysis\n",
    "\n",
    "Let's first review the file.\n",
    "Our dataset is a collection of over 21 milion reviews of around 300 different games on the gaming platform Steam."
   ]
  },
  {
   "cell_type": "code",
   "execution_count": 4,
   "id": "429c7076",
   "metadata": {},
   "outputs": [
    {
     "data": {
      "text/html": [
       "<div>\n",
       "<style scoped>\n",
       "    .dataframe tbody tr th:only-of-type {\n",
       "        vertical-align: middle;\n",
       "    }\n",
       "\n",
       "    .dataframe tbody tr th {\n",
       "        vertical-align: top;\n",
       "    }\n",
       "\n",
       "    .dataframe thead th {\n",
       "        text-align: right;\n",
       "    }\n",
       "</style>\n",
       "<table border=\"1\" class=\"dataframe\">\n",
       "  <thead>\n",
       "    <tr style=\"text-align: right;\">\n",
       "      <th></th>\n",
       "      <th>Unnamed: 0</th>\n",
       "      <th>app_id</th>\n",
       "      <th>app_name</th>\n",
       "      <th>review_id</th>\n",
       "      <th>language</th>\n",
       "      <th>review</th>\n",
       "      <th>timestamp_created</th>\n",
       "      <th>timestamp_updated</th>\n",
       "      <th>recommended</th>\n",
       "      <th>votes_helpful</th>\n",
       "      <th>...</th>\n",
       "      <th>steam_purchase</th>\n",
       "      <th>received_for_free</th>\n",
       "      <th>written_during_early_access</th>\n",
       "      <th>author.steamid</th>\n",
       "      <th>author.num_games_owned</th>\n",
       "      <th>author.num_reviews</th>\n",
       "      <th>author.playtime_forever</th>\n",
       "      <th>author.playtime_last_two_weeks</th>\n",
       "      <th>author.playtime_at_review</th>\n",
       "      <th>author.last_played</th>\n",
       "    </tr>\n",
       "  </thead>\n",
       "  <tbody>\n",
       "    <tr>\n",
       "      <th>0</th>\n",
       "      <td>0</td>\n",
       "      <td>292030</td>\n",
       "      <td>The Witcher 3: Wild Hunt</td>\n",
       "      <td>85185598</td>\n",
       "      <td>schinese</td>\n",
       "      <td>不玩此生遗憾，RPG游戏里的天花板，太吸引人了</td>\n",
       "      <td>2021-01-23 06:00:29</td>\n",
       "      <td>2021-01-23 06:00:29</td>\n",
       "      <td>True</td>\n",
       "      <td>0</td>\n",
       "      <td>...</td>\n",
       "      <td>True</td>\n",
       "      <td>False</td>\n",
       "      <td>False</td>\n",
       "      <td>76561199095369542</td>\n",
       "      <td>6</td>\n",
       "      <td>2</td>\n",
       "      <td>1909.0</td>\n",
       "      <td>1448.0</td>\n",
       "      <td>1909.0</td>\n",
       "      <td>2021-01-22 19:23:03</td>\n",
       "    </tr>\n",
       "    <tr>\n",
       "      <th>1</th>\n",
       "      <td>1</td>\n",
       "      <td>292030</td>\n",
       "      <td>The Witcher 3: Wild Hunt</td>\n",
       "      <td>85185250</td>\n",
       "      <td>schinese</td>\n",
       "      <td>拔DIAO无情打桩机--杰洛特!!!</td>\n",
       "      <td>2021-01-23 05:50:30</td>\n",
       "      <td>2021-01-23 05:50:30</td>\n",
       "      <td>True</td>\n",
       "      <td>0</td>\n",
       "      <td>...</td>\n",
       "      <td>True</td>\n",
       "      <td>False</td>\n",
       "      <td>False</td>\n",
       "      <td>76561198949504115</td>\n",
       "      <td>30</td>\n",
       "      <td>10</td>\n",
       "      <td>2764.0</td>\n",
       "      <td>2743.0</td>\n",
       "      <td>2674.0</td>\n",
       "      <td>2021-01-23 07:18:27</td>\n",
       "    </tr>\n",
       "    <tr>\n",
       "      <th>2</th>\n",
       "      <td>2</td>\n",
       "      <td>292030</td>\n",
       "      <td>The Witcher 3: Wild Hunt</td>\n",
       "      <td>85185111</td>\n",
       "      <td>schinese</td>\n",
       "      <td>巫师3NB</td>\n",
       "      <td>2021-01-23 05:46:40</td>\n",
       "      <td>2021-01-23 05:46:40</td>\n",
       "      <td>True</td>\n",
       "      <td>0</td>\n",
       "      <td>...</td>\n",
       "      <td>True</td>\n",
       "      <td>False</td>\n",
       "      <td>False</td>\n",
       "      <td>76561199090098988</td>\n",
       "      <td>5</td>\n",
       "      <td>1</td>\n",
       "      <td>1061.0</td>\n",
       "      <td>1061.0</td>\n",
       "      <td>1060.0</td>\n",
       "      <td>2021-01-23 06:36:17</td>\n",
       "    </tr>\n",
       "    <tr>\n",
       "      <th>3</th>\n",
       "      <td>3</td>\n",
       "      <td>292030</td>\n",
       "      <td>The Witcher 3: Wild Hunt</td>\n",
       "      <td>85184605</td>\n",
       "      <td>english</td>\n",
       "      <td>One of the best RPG's of all time, worthy of a...</td>\n",
       "      <td>2021-01-23 05:32:50</td>\n",
       "      <td>2021-01-23 05:32:50</td>\n",
       "      <td>True</td>\n",
       "      <td>0</td>\n",
       "      <td>...</td>\n",
       "      <td>True</td>\n",
       "      <td>False</td>\n",
       "      <td>False</td>\n",
       "      <td>76561199054755373</td>\n",
       "      <td>5</td>\n",
       "      <td>3</td>\n",
       "      <td>5587.0</td>\n",
       "      <td>3200.0</td>\n",
       "      <td>5524.0</td>\n",
       "      <td>2021-01-23 06:35:44</td>\n",
       "    </tr>\n",
       "    <tr>\n",
       "      <th>4</th>\n",
       "      <td>4</td>\n",
       "      <td>292030</td>\n",
       "      <td>The Witcher 3: Wild Hunt</td>\n",
       "      <td>85184287</td>\n",
       "      <td>schinese</td>\n",
       "      <td>大作</td>\n",
       "      <td>2021-01-23 05:23:47</td>\n",
       "      <td>2021-01-23 05:23:47</td>\n",
       "      <td>True</td>\n",
       "      <td>0</td>\n",
       "      <td>...</td>\n",
       "      <td>True</td>\n",
       "      <td>False</td>\n",
       "      <td>False</td>\n",
       "      <td>76561199028326951</td>\n",
       "      <td>7</td>\n",
       "      <td>4</td>\n",
       "      <td>217.0</td>\n",
       "      <td>42.0</td>\n",
       "      <td>217.0</td>\n",
       "      <td>2021-01-16 09:10:49</td>\n",
       "    </tr>\n",
       "  </tbody>\n",
       "</table>\n",
       "<p>5 rows × 23 columns</p>\n",
       "</div>"
      ],
      "text/plain": [
       "   Unnamed: 0  app_id                  app_name  review_id  language  \\\n",
       "0           0  292030  The Witcher 3: Wild Hunt   85185598  schinese   \n",
       "1           1  292030  The Witcher 3: Wild Hunt   85185250  schinese   \n",
       "2           2  292030  The Witcher 3: Wild Hunt   85185111  schinese   \n",
       "3           3  292030  The Witcher 3: Wild Hunt   85184605   english   \n",
       "4           4  292030  The Witcher 3: Wild Hunt   85184287  schinese   \n",
       "\n",
       "                                              review   timestamp_created  \\\n",
       "0                            不玩此生遗憾，RPG游戏里的天花板，太吸引人了 2021-01-23 06:00:29   \n",
       "1                                 拔DIAO无情打桩机--杰洛特!!! 2021-01-23 05:50:30   \n",
       "2                                              巫师3NB 2021-01-23 05:46:40   \n",
       "3  One of the best RPG's of all time, worthy of a... 2021-01-23 05:32:50   \n",
       "4                                                 大作 2021-01-23 05:23:47   \n",
       "\n",
       "    timestamp_updated  recommended  votes_helpful  ...  steam_purchase  \\\n",
       "0 2021-01-23 06:00:29         True              0  ...            True   \n",
       "1 2021-01-23 05:50:30         True              0  ...            True   \n",
       "2 2021-01-23 05:46:40         True              0  ...            True   \n",
       "3 2021-01-23 05:32:50         True              0  ...            True   \n",
       "4 2021-01-23 05:23:47         True              0  ...            True   \n",
       "\n",
       "   received_for_free  written_during_early_access     author.steamid  \\\n",
       "0              False                        False  76561199095369542   \n",
       "1              False                        False  76561198949504115   \n",
       "2              False                        False  76561199090098988   \n",
       "3              False                        False  76561199054755373   \n",
       "4              False                        False  76561199028326951   \n",
       "\n",
       "   author.num_games_owned  author.num_reviews  author.playtime_forever  \\\n",
       "0                       6                   2                   1909.0   \n",
       "1                      30                  10                   2764.0   \n",
       "2                       5                   1                   1061.0   \n",
       "3                       5                   3                   5587.0   \n",
       "4                       7                   4                    217.0   \n",
       "\n",
       "   author.playtime_last_two_weeks  author.playtime_at_review  \\\n",
       "0                          1448.0                     1909.0   \n",
       "1                          2743.0                     2674.0   \n",
       "2                          1061.0                     1060.0   \n",
       "3                          3200.0                     5524.0   \n",
       "4                            42.0                      217.0   \n",
       "\n",
       "   author.last_played  \n",
       "0 2021-01-22 19:23:03  \n",
       "1 2021-01-23 07:18:27  \n",
       "2 2021-01-23 06:36:17  \n",
       "3 2021-01-23 06:35:44  \n",
       "4 2021-01-16 09:10:49  \n",
       "\n",
       "[5 rows x 23 columns]"
      ]
     },
     "execution_count": 4,
     "metadata": {},
     "output_type": "execute_result"
    }
   ],
   "source": [
    "dataset.head()"
   ]
  },
  {
   "cell_type": "code",
   "execution_count": 5,
   "id": "7936fce5",
   "metadata": {},
   "outputs": [
    {
     "data": {
      "text/plain": [
       "Index(['Unnamed: 0', 'app_id', 'app_name', 'review_id', 'language', 'review',\n",
       "       'timestamp_created', 'timestamp_updated', 'recommended',\n",
       "       'votes_helpful', 'votes_funny', 'weighted_vote_score', 'comment_count',\n",
       "       'steam_purchase', 'received_for_free', 'written_during_early_access',\n",
       "       'author.steamid', 'author.num_games_owned', 'author.num_reviews',\n",
       "       'author.playtime_forever', 'author.playtime_last_two_weeks',\n",
       "       'author.playtime_at_review', 'author.last_played'],\n",
       "      dtype='object')"
      ]
     },
     "execution_count": 5,
     "metadata": {},
     "output_type": "execute_result"
    }
   ],
   "source": [
    "dataset.columns"
   ]
  },
  {
   "cell_type": "markdown",
   "id": "ed3db833",
   "metadata": {},
   "source": [
    "We can find information about the language the review was written in, the time it was created (and when it was updated), information about the author and his activity on the platform and more else."
   ]
  },
  {
   "cell_type": "markdown",
   "id": "32cb90b8",
   "metadata": {},
   "source": [
    "## [RQ2] Information about the games\n",
    "\n",
    "First of all, we want to analyze which games are the most reviewed and which games were the most recommended.We used the **Pandas** built-in function *value_counts* to do a bar plot of the 10 most reviewed games, in descending order.\n",
    "These are the results:"
   ]
  },
  {
   "cell_type": "code",
   "execution_count": 6,
   "id": "506a5036",
   "metadata": {},
   "outputs": [
    {
     "data": {
      "text/plain": [
       "<AxesSubplot:title={'center':'Reviews amount for each App'}, xlabel='Application name', ylabel='Number of Reviews'>"
      ]
     },
     "execution_count": 6,
     "metadata": {},
     "output_type": "execute_result"
    },
    {
     "data": {
      "image/png": "[encoded data removed]",
      "text/plain": [
       "<Figure size 1512x1224 with 1 Axes>"
      ]
     },
     "metadata": {
      "needs_background": "light"
     },
     "output_type": "display_data"
    }
   ],
   "source": [
    "dataset['app_name'].value_counts()[:10].plot.bar(figsize = (21,17), title=\"Reviews amount for each App\", \n",
    "                                                 xlabel = 'Application name', ylabel = 'Number of Reviews')"
   ]
  },
  {
   "cell_type": "markdown",
   "id": "47d52a34",
   "metadata": {},
   "source": [
    "| **Game Name** | **Rank** |\n",
    "|-------------------------------|-----|\n",
    "| PLAYERUNKNOWN'S BATTLEGROUNDS | 1 |\n",
    "| Greand Theft Auto V | 2 |\n",
    "|Tom Clancy's Rainbow Six Siege | 3 |\n",
    "|Terraria | 4 |\n",
    "|Garry's Mod | 5 |\n",
    "|Rust | 6 |\n",
    "|Rocket Leaugue | 7 |\n",
    "|PAYDAY 2 | 8 |\n",
    "|Among Us | 9 |\n",
    "|The Witcher 3: Wild Hunt|10|\n",
    "\n",
    "\n",
    "Let's now see which application has the best *Weighted Vote Score* (WVS). Since every review has a different WVS we decided to do a *groupby* method to separate the dataset by the name of the application, and then find the mean value, for each game, of the WVS. With this method we found out that the game with the highest WVS was **Hunt Down The Freeman**"
   ]
  },
  {
   "cell_type": "code",
   "execution_count": 7,
   "id": "6b14d947",
   "metadata": {},
   "outputs": [
    {
     "data": {
      "text/plain": [
       "'Hunt Down The Freeman'"
      ]
     },
     "execution_count": 7,
     "metadata": {},
     "output_type": "execute_result"
    }
   ],
   "source": [
    "dataset.groupby('app_name')['weighted_vote_score'].mean().idxmax()"
   ]
  },
  {
   "cell_type": "markdown",
   "id": "75ef4b18",
   "metadata": {},
   "source": [
    "Let's now search for the most and the least recommended games on steam. Since the *recommended* column contains boolean values, we can sum all the elements to obtain the number of True's, and then find the entries which received most and least recommendation."
   ]
  },
  {
   "cell_type": "code",
   "execution_count": 8,
   "id": "bb7a66da",
   "metadata": {},
   "outputs": [
    {
     "data": {
      "text/plain": [
       "app_name\n",
       "PLAYERUNKNOWN'S BATTLEGROUNDS     886417\n",
       "Grand Theft Auto V                831311\n",
       "Tom Clancy's Rainbow Six Siege    742397\n",
       "Terraria                          658741\n",
       "Garry's Mod                       632558\n",
       "Name: recommended, dtype: int64"
      ]
     },
     "execution_count": 8,
     "metadata": {},
     "output_type": "execute_result"
    }
   ],
   "source": [
    "dataset.groupby('app_name').recommended.sum().nlargest(5)"
   ]
  },
  {
   "cell_type": "markdown",
   "id": "6f5a50ca",
   "metadata": {},
   "source": [
    "The top 5 recommended games on Steam are:\n",
    "\n",
    "| **Game Name** |**Number of Recommendation**|\n",
    "|-------------------------------|-----|\n",
    "| PLAYERUNKNOWN'S BATTLEGROUNDS | 886417 |\n",
    "| Grand Theft Auto V | 831311 |\n",
    "|Tom Clancy's Rainbow Six Siege | 742397 |\n",
    "|Terraria | 658741 |\n",
    "|Garry's Mod | 632558|\n"
   ]
  },
  {
   "cell_type": "code",
   "execution_count": 9,
   "id": "01ba3ffb",
   "metadata": {},
   "outputs": [
    {
     "data": {
      "text/plain": [
       "app_name\n",
       "Neon Hardcorps                  89\n",
       "DRAGON QUEST HEROES™ II        423\n",
       "Identity                       439\n",
       "Shadow Complex Remastered      587\n",
       "Out of the Park Baseball 19    594\n",
       "Name: recommended, dtype: int64"
      ]
     },
     "execution_count": 9,
     "metadata": {},
     "output_type": "execute_result"
    }
   ],
   "source": [
    "dataset.groupby('app_name').recommended.sum().nsmallest(5)"
   ]
  },
  {
   "cell_type": "markdown",
   "id": "2c6c59e0",
   "metadata": {},
   "source": [
    "The top 5 least recommended games on Steam are:\n",
    "\n",
    "| **Game Name** |**Number of Recommendation**|\n",
    "|-------------------------------|-----|\n",
    "| Neon Hardcorps|89 |\n",
    "| DRAGON QUEST HEROES™ II | 423 |\n",
    "|Identity | 439 |\n",
    "|Shadow Complex Remastered | 587 |\n",
    "|Out of the Park Baseball 19 | 594|\n",
    "\n",
    "\n",
    "Let's now focus on the most recommended game and the least recommended game and check how many reviewers puchased these games or received them for free."
   ]
  },
  {
   "cell_type": "code",
   "execution_count": 10,
   "id": "2d5531b7",
   "metadata": {},
   "outputs": [
    {
     "data": {
      "text/plain": [
       "False    1582812\n",
       "True       61443\n",
       "Name: received_for_free, dtype: int64"
      ]
     },
     "execution_count": 10,
     "metadata": {},
     "output_type": "execute_result"
    },
    {
     "data": {
      "image/png": "[encoded data removed]",
      "text/plain": [
       "<Figure size 432x288 with 1 Axes>"
      ]
     },
     "metadata": {
      "needs_background": "light"
     },
     "output_type": "display_data"
    }
   ],
   "source": [
    "dataset[dataset['app_name']==\"PLAYERUNKNOWN'S BATTLEGROUNDS\"]['received_for_free'].value_counts().plot.bar(xlabel = 'Received for free',\n",
    "                                                                                                          ylabel = 'Amount',\n",
    "                                                                                                          title = \"Data for PLAYERUNKNOWN'S BATTLEGROUNDS\")\n",
    "dataset[dataset['app_name']==\"PLAYERUNKNOWN'S BATTLEGROUNDS\"]['received_for_free'].value_counts()"
   ]
  },
  {
   "cell_type": "markdown",
   "id": "b8fe1261",
   "metadata": {},
   "source": [
    "In the case of **PLAYERUNKNOWN'S BATTLEGROUNDS** we can see that 1,582,812 reviewers purchased the game, whether on Steam or on a 3rd party platform and 61,443 reviewers received it for free."
   ]
  },
  {
   "cell_type": "code",
   "execution_count": 15,
   "id": "0320f06d",
   "metadata": {},
   "outputs": [
    {
     "data": {
      "text/plain": [
       "False    173\n",
       "True      27\n",
       "Name: received_for_free, dtype: int64"
      ]
     },
     "execution_count": 15,
     "metadata": {},
     "output_type": "execute_result"
    },
    {
     "data": {
      "image/png": "[encoded data removed]",
      "text/plain": [
       "<Figure size 432x288 with 1 Axes>"
      ]
     },
     "metadata": {
      "needs_background": "light"
     },
     "output_type": "display_data"
    }
   ],
   "source": [
    "dataset[dataset['app_name']==\"Neon Hardcorps\"]['received_for_free'].value_counts().plot.bar(xlabel = 'Received for free',\n",
    "                                                                                            ylabel = 'Amount',\n",
    "                                                                                            title = \"Data for Neon Hardcorps\")\n",
    "dataset[dataset['app_name']==\"Neon Hardcorps\"]['received_for_free'].value_counts()"
   ]
  },
  {
   "cell_type": "markdown",
   "id": "e5a3ba26",
   "metadata": {},
   "source": [
    "In the case of **Neon Hardcorps** we can see that 173 reviewers purchased the game, whether on Steam or on a 3rd party platform and 27 reviewers received it for free."
   ]
  },
  {
   "cell_type": "markdown",
   "id": "6b9e0448",
   "metadata": {},
   "source": [
    "## [RQ3]Information about the time of the reviews\n",
    "\n",
    "We are now interested in understanding the preferred time to do reviews.\n",
    "Let's first see what is the most common time for the authors to write a review; to do this we took the *hour* and the minute *value* from the **timestamp_created** and then did a *plot bar* of the 15 most frequent entries. These are the results:"
   ]
  },
  {
   "cell_type": "code",
   "execution_count": 17,
   "id": "71fa6812",
   "metadata": {},
   "outputs": [
    {
     "data": {
      "text/plain": [
       "<AxesSubplot:xlabel='Time of Reviews', ylabel='Amount of Reviews'>"
      ]
     },
     "execution_count": 17,
     "metadata": {},
     "output_type": "execute_result"
    },
    {
     "data": {
      "image/png": "[encoded data removed]",
      "text/plain": [
       "<Figure size 1440x720 with 1 Axes>"
      ]
     },
     "metadata": {
      "needs_background": "light"
     },
     "output_type": "display_data"
    }
   ],
   "source": [
    "dataset['timestamp_created'].dt.strftime('%H:%M').value_counts()[:15].plot.bar(figsize = (20,10),\n",
    "                                                                              xlabel = 'Time of Reviews',\n",
    "                                                                              ylabel = 'Amount of Reviews')"
   ]
  },
  {
   "cell_type": "markdown",
   "id": "da0d77fa",
   "metadata": {},
   "source": [
    "The most common time is **14:50**, but as we can see, all the most common times are in the early afternoon. So let's analyze this thing better by checking time intervals instead of single minutes.\n",
    "These are the time intervals we are going to check:\n",
    "\n",
    "| **Initial Time** | **Final Time** |\n",
    "|--------|--------|\n",
    "|06:00:00|10:59:59|\n",
    "|11:00:00|13:59:59|\n",
    "|14:00:00|16:59:59|\n",
    "|17:00:00|19:59:59|\n",
    "|20:00:00|23:59:59|\n",
    "|00:00:00|02:59:59|\n",
    "|03:00:00|05:59:59|"
   ]
  },
  {
   "cell_type": "code",
   "execution_count": 43,
   "id": "705f0ba0",
   "metadata": {},
   "outputs": [],
   "source": [
    "time_intervals = [dt.datetime.strptime('06:00:00', '%H:%M:%S')]"
   ]
  },
  {
   "cell_type": "code",
   "execution_count": 44,
   "id": "3feb61ec",
   "metadata": {},
   "outputs": [
    {
     "ename": "TypeError",
     "evalue": "float() argument must be a string or a number, not 'datetime.datetime'",
     "output_type": "error",
     "traceback": [
      "\u001b[1;31m---------------------------------------------------------------------------\u001b[0m",
      "\u001b[1;31mTypeError\u001b[0m                                 Traceback (most recent call last)",
      "\u001b[1;32m<ipython-input-44-390ecabe98fa>\u001b[0m in \u001b[0;36m<module>\u001b[1;34m\u001b[0m\n\u001b[1;32m----> 1\u001b[1;33m \u001b[0mdataset\u001b[0m\u001b[1;33m.\u001b[0m\u001b[0mgroupby\u001b[0m\u001b[1;33m(\u001b[0m\u001b[0mpd\u001b[0m\u001b[1;33m.\u001b[0m\u001b[0mcut\u001b[0m\u001b[1;33m(\u001b[0m\u001b[0mdataset\u001b[0m\u001b[1;33m[\u001b[0m\u001b[1;34m'timestamp_created'\u001b[0m\u001b[1;33m]\u001b[0m\u001b[1;33m.\u001b[0m\u001b[0mdt\u001b[0m\u001b[1;33m.\u001b[0m\u001b[0mstrftime\u001b[0m\u001b[1;33m(\u001b[0m\u001b[1;34m'%H:%M:%S'\u001b[0m\u001b[1;33m)\u001b[0m\u001b[1;33m,\u001b[0m \u001b[0mtime_intervals\u001b[0m\u001b[1;33m)\u001b[0m\u001b[1;33m)\u001b[0m\u001b[1;33m.\u001b[0m\u001b[0mcount\u001b[0m\u001b[1;33m(\u001b[0m\u001b[1;33m)\u001b[0m\u001b[1;33m\u001b[0m\u001b[1;33m\u001b[0m\u001b[0m\n\u001b[0m\u001b[0;32m      2\u001b[0m \u001b[1;33m\u001b[0m\u001b[0m\n",
      "\u001b[1;32mC:\\anaconda3\\lib\\site-packages\\pandas\\core\\reshape\\tile.py\u001b[0m in \u001b[0;36mcut\u001b[1;34m(x, bins, right, labels, retbins, precision, include_lowest, duplicates, ordered)\u001b[0m\n\u001b[0;32m    268\u001b[0m \u001b[1;33m\u001b[0m\u001b[0m\n\u001b[0;32m    269\u001b[0m         \u001b[1;31m# GH 26045: cast to float64 to avoid an overflow\u001b[0m\u001b[1;33m\u001b[0m\u001b[1;33m\u001b[0m\u001b[1;33m\u001b[0m\u001b[0m\n\u001b[1;32m--> 270\u001b[1;33m         \u001b[1;32mif\u001b[0m \u001b[1;33m(\u001b[0m\u001b[0mnp\u001b[0m\u001b[1;33m.\u001b[0m\u001b[0mdiff\u001b[0m\u001b[1;33m(\u001b[0m\u001b[0mbins\u001b[0m\u001b[1;33m.\u001b[0m\u001b[0mastype\u001b[0m\u001b[1;33m(\u001b[0m\u001b[1;34m\"float64\"\u001b[0m\u001b[1;33m)\u001b[0m\u001b[1;33m)\u001b[0m \u001b[1;33m<\u001b[0m \u001b[1;36m0\u001b[0m\u001b[1;33m)\u001b[0m\u001b[1;33m.\u001b[0m\u001b[0many\u001b[0m\u001b[1;33m(\u001b[0m\u001b[1;33m)\u001b[0m\u001b[1;33m:\u001b[0m\u001b[1;33m\u001b[0m\u001b[1;33m\u001b[0m\u001b[0m\n\u001b[0m\u001b[0;32m    271\u001b[0m             \u001b[1;32mraise\u001b[0m \u001b[0mValueError\u001b[0m\u001b[1;33m(\u001b[0m\u001b[1;34m\"bins must increase monotonically.\"\u001b[0m\u001b[1;33m)\u001b[0m\u001b[1;33m\u001b[0m\u001b[1;33m\u001b[0m\u001b[0m\n\u001b[0;32m    272\u001b[0m \u001b[1;33m\u001b[0m\u001b[0m\n",
      "\u001b[1;31mTypeError\u001b[0m: float() argument must be a string or a number, not 'datetime.datetime'"
     ]
    }
   ],
   "source": [
    "dataset.groupby(pd.cut(dataset['timestamp_created'].dt.strftime('%H:%M:%S'), time_intervals)).count()\n",
    "    "
   ]
  },
  {
   "cell_type": "markdown",
   "id": "7fc6946c",
   "metadata": {},
   "source": [
    "## [RQ4] Information about the languages\n",
    "\n",
    "Let's now analyze the languages the reviews are written in.\n",
    "First of all we checked the most frequent languages, doing a *value_counts* and then plotting it in a *bar plot*.\n",
    "This is what we obtained:\n",
    "\n"
   ]
  },
  {
   "cell_type": "code",
   "execution_count": 18,
   "id": "2442d997",
   "metadata": {},
   "outputs": [
    {
     "data": {
      "text/plain": [
       "<AxesSubplot:title={'center':'Data of languages'}, xlabel='Languages', ylabel='Amount of Reviews'>"
      ]
     },
     "execution_count": 18,
     "metadata": {},
     "output_type": "execute_result"
    },
    {
     "data": {
      "image/png": "[encoded data removed]",
      "text/plain": [
       "<Figure size 1944x576 with 1 Axes>"
      ]
     },
     "metadata": {
      "needs_background": "light"
     },
     "output_type": "display_data"
    }
   ],
   "source": [
    "dataset['language'].value_counts().plot.bar(figsize = (27,8), title = 'Data of languages',\n",
    "                                            xlabel = 'Languages', \n",
    "                                            ylabel = 'Amount of Reviews')"
   ]
  },
  {
   "cell_type": "markdown",
   "id": "9559b4a1",
   "metadata": {},
   "source": [
    "We can see that the 3 most used languages are **english**, **semplified chinese** and **russian**. Let's now focus on the reviews written in these languages. We created a new dataset using our custom function *filter_by_language*, that takes as input the dataset and a list on languages in the form of a vector and returns the filtered dataset."
   ]
  },
  {
   "cell_type": "code",
   "execution_count": 19,
   "id": "6cbfe7cb",
   "metadata": {},
   "outputs": [],
   "source": [
    "language_list = ['english', 'russian', 'schinese']\n",
    "filt_ds = filter_by_language(dataset,language_list)"
   ]
  },
  {
   "cell_type": "markdown",
   "id": "f1557c91",
   "metadata": {},
   "source": [
    "Let's now see how many of the reviews of this new dataset were voted as **funny** or **helpful**. To do this we used a custom function that counts how many reviews have at least one vote in each category and then calculate the percentage by simply doing a ratio between this found number and the total amount of the reviews.\n",
    "For the percentage of **funny** votes this is what we obtained:"
   ]
  },
  {
   "cell_type": "code",
   "execution_count": 59,
   "id": "a71965f7",
   "metadata": {},
   "outputs": [
    {
     "data": {
      "image/png": "[encoded data removed]",
      "text/plain": [
       "<Figure size 432x288 with 1 Axes>"
      ]
     },
     "metadata": {},
     "output_type": "display_data"
    }
   ],
   "source": [
    "perc = functions.funny_percentage(filt_ds)\n",
    "plot_percentage(perc, 'Was voted as funny')"
   ]
  },
  {
   "cell_type": "code",
   "execution_count": 54,
   "id": "d548e4d3",
   "metadata": {},
   "outputs": [
    {
     "data": {
      "image/png": "[encoded data removed]",
      "text/plain": [
       "<Figure size 432x288 with 1 Axes>"
      ]
     },
     "metadata": {},
     "output_type": "display_data"
    }
   ],
   "source": [
    "plot_percentage(helpful_percentage(filt_ds), 'Was voted as helpful')"
   ]
  },
  {
   "cell_type": "markdown",
   "id": "10584c32",
   "metadata": {},
   "source": [
    "## [RQ5] Information about the reviewers\n",
    "\n",
    "Next up, we are going to get information about who write these reviews. First of all let's see who are the top 10 most popular\n",
    "reviewers, where, for most popular, we intend the people who wrote more reviews."
   ]
  },
  {
   "cell_type": "code",
   "execution_count": 61,
   "id": "ca2a4e13",
   "metadata": {},
   "outputs": [
    {
     "data": {
      "text/plain": [
       "<AxesSubplot:title={'center':'Most Popular Reviewers'}, xlabel='Author SteamId', ylabel='Amount of Written Reviews'>"
      ]
     },
     "execution_count": 61,
     "metadata": {},
     "output_type": "execute_result"
    },
    {
     "data": {
      "image/png": "[encoded data removed]",
      "text/plain": [
       "<Figure size 432x288 with 1 Axes>"
      ]
     },
     "metadata": {
      "needs_background": "light"
     },
     "output_type": "display_data"
    }
   ],
   "source": [
    "dataset['author.steamid'].value_counts()[:10].plot.bar(title = 'Most Popular Reviewers',\n",
    "                                                      xlabel = 'Author SteamId',\n",
    "                                                      ylabel = 'Amount of Written Reviews')"
   ]
  },
  {
   "cell_type": "markdown",
   "id": "530b8448",
   "metadata": {},
   "source": [
    "Here each reviewer is represented by the *SteamId*. This is a unique code which identifies the Steam profile and it cannot be changed once the account has been created. \n",
    "We are now going to focus on the most popular author and get some information about his profile. Let's start by getting his SteamId and taking the rows of the dataset which *steamid* entry corrispond to his:"
   ]
  },
  {
   "cell_type": "code",
   "execution_count": 62,
   "id": "becbd3b0",
   "metadata": {},
   "outputs": [
    {
     "data": {
      "text/plain": [
       "76561198062813911"
      ]
     },
     "execution_count": 62,
     "metadata": {},
     "output_type": "execute_result"
    }
   ],
   "source": [
    "dataset['author.steamid'].value_counts().idxmax()"
   ]
  },
  {
   "cell_type": "code",
   "execution_count": 63,
   "id": "9a1709b0",
   "metadata": {},
   "outputs": [],
   "source": [
    "most_popular_reviewer = dataset[dataset['author.steamid'] == 76561198062813911]"
   ]
  },
  {
   "cell_type": "markdown",
   "id": "acaca881",
   "metadata": {},
   "source": [
    "Now that we got this new dataset, let's see which application did this person review:"
   ]
  },
  {
   "cell_type": "code",
   "execution_count": 64,
   "id": "d8d74f33",
   "metadata": {},
   "outputs": [
    {
     "data": {
      "text/plain": [
       "array(['Half-Life', 'Counter-Strike: Source', 'Half-Life 2: Episode Two',\n",
       "       'Portal 2', \"Garry's Mod\", \"Sid Meier's Civilization V\",\n",
       "       'Dead by Daylight', \"Sid Meier's Civilization VI\", 'Subnautica',\n",
       "       'Human: Fall Flat', 'Banished', 'Celeste',\n",
       "       'Getting Over It with Bennett Foddy', 'A Hat in Time',\n",
       "       'The Forest', 'Axiom Verge', 'The Binding of Isaac: Rebirth',\n",
       "       'To the Moon', 'Cave Story+', 'Titan Souls', 'Super Meat Boy',\n",
       "       \"Don't Escape: 4 Days to Survive\", 'Volgarr the Viking',\n",
       "       'Enter the Gungeon', 'Salt and Sanctuary', 'Hollow Knight',\n",
       "       'The End Is Nigh', 'Factorio', 'RimWorld', 'Insurgency: Sandstorm',\n",
       "       'Euro Truck Simulator 2', 'Foundation', 'Kenshi',\n",
       "       'Into the Breach', 'Warhammer: Vermintide 2', 'DOOM Eternal',\n",
       "       'Age of Empires: Definitive Edition', 'Void Bastards',\n",
       "       'Stardew Valley', 'Among Us', 'Blackwake', 'Little Nightmares',\n",
       "       'Bomber Crew', 'Rust', 'HITMAN™ 2', 'Phasmophobia',\n",
       "       'Mount & Blade: Warband', 'Resident Evil 2', 'Slime Rancher',\n",
       "       'Hotline Miami', 'Tomb Raider', 'BattleBlock Theater',\n",
       "       'Dishonored', 'South Park™: The Stick of Truth™', 'Undertale',\n",
       "       \"Don't Starve\", 'Rocket League', 'Dead Cells', 'Broforce',\n",
       "       'The Wolf Among Us', 'The Walking Dead', 'One Finger Death Punch',\n",
       "       'Oxygen Not Included', 'Cuphead', 'ULTRAKILL', 'Castle Crashers',\n",
       "       'Townscaper', 'Papers, Please', 'GRIS', 'DUSK', 'Outlast',\n",
       "       'FTL: Faster Than Light', 'Dying Light',\n",
       "       'American Truck Simulator', 'Saints Row: The Third',\n",
       "       'STAR WARS™ Empire at War: Gold Pack', 'Age of Empires II (2013)',\n",
       "       'Super Hexagon', 'BioShock Infinite', 'DOOM', 'Black Mesa',\n",
       "       'Finding Paradise', 'Keep Talking and Nobody Explodes',\n",
       "       'Duck Game', 'Mark of the Ninja',\n",
       "       'Phoenix Wright: Ace Attorney Trilogy', 'Gunpoint',\n",
       "       \"PLAYERUNKNOWN'S BATTLEGROUNDS\", 'Monster Hunter: World',\n",
       "       'The Elder Scrolls Online', 'Total War: WARHAMMER II',\n",
       "       'Cities: Skylines', 'Stellaris', 'Black Desert Online',\n",
       "       'Kingdom Come: Deliverance', 'Jurassic World Evolution',\n",
       "       'ARK: Survival Evolved', \"No Man's Sky\", 'Frostpunk', 'Fallout 4',\n",
       "       'DARK SOULS™ III', 'Rise of the Tomb Raider',\n",
       "       'Middle-earth™: Shadow of War™', 'Hearts of Iron IV',\n",
       "       'They Are Billions', 'Total War Saga: Thrones of Britannia',\n",
       "       'Total War: ROME II - Emperor Edition', 'Terraria', 'PAYDAY 2',\n",
       "       'XCOM 2', 'Deep Rock Galactic', 'Hunt: Showdown', 'Conan Exiles',\n",
       "       'Two Point Hospital', 'Total War: WARHAMMER',\n",
       "       'The Elder Scrolls V: Skyrim Special Edition', 'NieR:Automata™',\n",
       "       'House Flipper', 'Surviving Mars',\n",
       "       'Ni no Kuni™ II: Revenant Kingdom', 'Railway Empire',\n",
       "       'Rise of Industry', 'Devil May Cry HD Collection',\n",
       "       'Heroes of Hammerwatch', 'Ghost of a Tale', 'Ancestors Legacy',\n",
       "       'FAR: Lone Sails', 'Totally Accurate Battlegrounds', 'Vampyr',\n",
       "       'Yakuza 0', 'Thief Simulator', 'Darksiders III',\n",
       "       'Mutant Year Zero: Road to Eden', 'Just Cause 4', 'Planet Coaster',\n",
       "       'Nioh: Complete Edition', 'Europa Universalis IV', 'Just Cause 3',\n",
       "       'Resident Evil 7 Biohazard', 'Urban Empire', 'Youtubers Life',\n",
       "       'Night in the Woods', 'Northgard', 'Sniper Elite 4',\n",
       "       'Hollow Knight', 'Day of Infamy', 'SimAirport', 'Dead Rising 4',\n",
       "       'Styx: Shards of Darkness'], dtype=object)"
      ]
     },
     "execution_count": 64,
     "metadata": {},
     "output_type": "execute_result"
    }
   ],
   "source": [
    "most_popular_reviewer['app_name'].to_numpy()"
   ]
  },
  {
   "cell_type": "markdown",
   "id": "f5556e2f",
   "metadata": {},
   "source": [
    "We now want to check how many of these applications were purchased on steam and how many were received for free (It is important to notice that these two events are not complementary since a person can buy a game on a 3rd party platform so both entries can be *False*):"
   ]
  },
  {
   "cell_type": "code",
   "execution_count": 88,
   "id": "6f119fb8",
   "metadata": {},
   "outputs": [
    {
     "data": {
      "image/png": "[encoded data removed]",
      "text/plain": [
       "<Figure size 432x288 with 2 Axes>"
      ]
     },
     "metadata": {
      "needs_background": "light"
     },
     "output_type": "display_data"
    }
   ],
   "source": [
    "plot_and_count(most_popular_reviewer,received_for_free_percentage(most_popular_reviewer), 'received_for_free',\n",
    "              my_title = 'Was Received for free', xlabel = 'Received for free')\n"
   ]
  },
  {
   "cell_type": "code",
   "execution_count": 89,
   "id": "94ce9829",
   "metadata": {},
   "outputs": [
    {
     "data": {
      "image/png": "[encoded data removed]",
      "text/plain": [
       "<Figure size 432x288 with 2 Axes>"
      ]
     },
     "metadata": {
      "needs_background": "light"
     },
     "output_type": "display_data"
    }
   ],
   "source": [
    "plot_and_count(most_popular_reviewer,steam_purchase_percentage(most_popular_reviewer), 'steam_purchase',\n",
    "              my_title = 'Was Purchased on Steam', xlabel = 'Purchased on Steam')"
   ]
  },
  {
   "cell_type": "markdown",
   "id": "4768a5eb",
   "metadata": {},
   "source": [
    "Let's give a look, for each of these categories, how many games did he recommend. To see this, just like before, we filtered the dataset by focusing on the reviews that matched our demands, and did a simple *value_counts* to count the number of recommended games. These are the results:"
   ]
  },
  {
   "cell_type": "code",
   "execution_count": 92,
   "id": "14c91a9f",
   "metadata": {},
   "outputs": [
    {
     "data": {
      "text/plain": [
       "True     108\n",
       "False      2\n",
       "Name: recommended, dtype: int64"
      ]
     },
     "execution_count": 92,
     "metadata": {},
     "output_type": "execute_result"
    }
   ],
   "source": [
    "most_popular_reviewer[most_popular_reviewer['steam_purchase'] == True].recommended.value_counts()"
   ]
  },
  {
   "cell_type": "code",
   "execution_count": 93,
   "id": "23a738c1",
   "metadata": {},
   "outputs": [
    {
     "data": {
      "text/plain": [
       "True    4\n",
       "Name: recommended, dtype: int64"
      ]
     },
     "execution_count": 93,
     "metadata": {},
     "output_type": "execute_result"
    }
   ],
   "source": [
    "most_popular_reviewer[most_popular_reviewer['received_for_free'] == True].recommended.value_counts()"
   ]
  },
  {
   "cell_type": "markdown",
   "id": "28ca3804",
   "metadata": {},
   "source": [
    "**Steam Purchased Games**\n",
    "\n",
    "|Recommendend  |Amount|\n",
    "|------------|--------|\n",
    "|True | 108|\n",
    "|False | 2 |"
   ]
  },
  {
   "cell_type": "markdown",
   "id": "263b95be",
   "metadata": {},
   "source": [
    "**Received for Free Games**\n",
    "\n",
    "|Recommendend  |Amount|\n",
    "|------------|--------|\n",
    "|True | 4|\n",
    "|False | 0 |"
   ]
  },
  {
   "cell_type": "markdown",
   "id": "6534c7ec",
   "metadata": {},
   "source": [
    "## [RQ6] Information about the updates\n",
    "\n",
    "We now want to obtain information about authors who update their reviews. To do this we filtered the dataset with the rows which have different values in the **timestamp_created** and **timestamp_updated** columns (this means that the review was actually updated after some time). Then we want to calculate the average amount time an author lets pass before he updates his review. To do this we simply calculated the mean on a vector that contains the time difference between the **timestamp_created** and **timestamp_updated** columns of this new dataset."
   ]
  },
  {
   "cell_type": "code",
   "execution_count": 95,
   "id": "fe19c4ec",
   "metadata": {},
   "outputs": [],
   "source": [
    "dataset_with_updates = dataset[dataset['timestamp_updated'] != dataset['timestamp_created']]\n",
    "(dataset_with_updates['timestamp_updated'] -dataset_with_updates['timestamp_created']).mean()"
   ]
  },
  {
   "cell_type": "markdown",
   "id": "7904ff90",
   "metadata": {},
   "source": [
    "We obtain that the average time is **321 days and 46 minutes**.\n",
    "Another information we may want to have is to find the authors which updates their reviews more often. To do this we simply did a *value_counts* on the new dataset and plotted the first 3. Here are the results:"
   ]
  },
  {
   "cell_type": "code",
   "execution_count": 99,
   "id": "e3143d7e",
   "metadata": {},
   "outputs": [
    {
     "data": {
      "text/plain": [
       "<AxesSubplot:title={'center':'Authors Which Updates Their Reviews'}, xlabel='Author SteamId', ylabel='Number of Updated Reviews'>"
      ]
     },
     "execution_count": 99,
     "metadata": {},
     "output_type": "execute_result"
    },
    {
     "data": {
      "image/png": "[encoded data removed]",
      "text/plain": [
       "<Figure size 432x288 with 1 Axes>"
      ]
     },
     "metadata": {
      "needs_background": "light"
     },
     "output_type": "display_data"
    }
   ],
   "source": [
    "dataset_with_updates['author.steamid'].value_counts()[:3].plot.bar(title = 'Authors Which Updates Their Reviews',\n",
    "                                                                  xlabel = 'Author SteamId',\n",
    "                                                                  ylabel = 'Number of Updated Reviews')"
   ]
  },
  {
   "cell_type": "markdown",
   "id": "a0d3162a",
   "metadata": {},
   "source": [
    "## [RQ7] Calculating some probabilities\n",
    "\n",
    "Let's calculate some interesting figures with our dataset.\n",
    "First of all let's calculate the probability that a review has a **Weighted Vote Score** bigger than 0.5. To do this, given the amount of data we have, we can use the *Law of Big Numbers* and simply calculate the ratio between the reviews that have a *Weighted Vote Score* bigger than 0.5 and the total number of reviews. Here is the result:"
   ]
  },
  {
   "cell_type": "code",
   "execution_count": 103,
   "id": "2dfbf980",
   "metadata": {},
   "outputs": [
    {
     "name": "stdout",
     "output_type": "stream",
     "text": [
      "0.21354034011743306\n"
     ]
    }
   ],
   "source": [
    "print(weighted_vote_score_percentage(dataset))"
   ]
  },
  {
   "cell_type": "markdown",
   "id": "5671c66e",
   "metadata": {},
   "source": [
    "Now let's calculate the probability that a review has at least one vote as funny given that it has a *Weighted Vote Score* bigger than 0.5. To do this we filtered the dataset by only taking the rows that had a *Weighted Vote Score* bigger than 0.5 and use the *funny_percentage* custom function we used before on this new dataset. Here is the result:"
   ]
  },
  {
   "cell_type": "code",
   "execution_count": 106,
   "id": "64a87d5a",
   "metadata": {},
   "outputs": [
    {
     "name": "stdout",
     "output_type": "stream",
     "text": [
      "0.24978288914523247\n"
     ]
    }
   ],
   "source": [
    "print(funny_vote_given_score(dataset))"
   ]
  },
  {
   "cell_type": "code",
   "execution_count": 96,
   "id": "b55eacec",
   "metadata": {},
   "outputs": [
    {
     "data": {
      "text/plain": [
       "Timedelta('321 days 00:46:24.845186976')"
      ]
     },
     "execution_count": 96,
     "metadata": {},
     "output_type": "execute_result"
    }
   ],
   "source": []
  },
  {
   "cell_type": "markdown",
   "id": "b87a18c5",
   "metadata": {},
   "source": [
    "We know want to know if the events:\n",
    "\n",
    "**A** = {the review has at least one vote as funny}\n",
    "\n",
    "**B** = {the review has a weighted vote score >= 0.5}\n",
    "\n",
    "are independent.\n",
    "To do this we used the definition of conditional probability and checked if \n",
    "P(**A** | **B**) = P(**A**)   by calculating the difference between the two values and look if it is close to zero."
   ]
  },
  {
   "cell_type": "code",
   "execution_count": 109,
   "id": "0da61045",
   "metadata": {},
   "outputs": [
    {
     "name": "stdout",
     "output_type": "stream",
     "text": [
      "0.13008694980617397\n"
     ]
    }
   ],
   "source": [
    "print(funny_vote_given_score(dataset) - funny_percentage(dataset))"
   ]
  },
  {
   "cell_type": "markdown",
   "id": "7249c6d2",
   "metadata": {},
   "source": [
    "As we can see their difference is not even close to zero so we can conclude that the two events are not independent."
   ]
  },
  {
   "cell_type": "markdown",
   "id": "5585c851",
   "metadata": {},
   "source": [
    "## [RQ8] Statistical Tests and Analysis"
   ]
  },
  {
   "cell_type": "code",
   "execution_count": 66,
   "id": "d7ef7405",
   "metadata": {},
   "outputs": [],
   "source": [
    "russian_data = dataset[dataset['language'] == 'russian']\n",
    "schinese_data= dataset[dataset['language'] == 'schinese']"
   ]
  },
  {
   "cell_type": "code",
   "execution_count": 67,
   "id": "8c17e268",
   "metadata": {},
   "outputs": [],
   "source": [
    "vector_a = russian_data[russian_data['weighted_vote_score']!=0]['weighted_vote_score'].to_numpy()\n",
    "vector_b = schinese_data[schinese_data['weighted_vote_score']!=0]['weighted_vote_score'].to_numpy()"
   ]
  },
  {
   "cell_type": "code",
   "execution_count": 29,
   "id": "567542b8",
   "metadata": {},
   "outputs": [
    {
     "name": "stdout",
     "output_type": "stream",
     "text": [
      "[0.52380955 0.52380955 0.52380955 ... 0.54732507 0.79892051 0.51815742]\n",
      "[0.52380955 0.78422624 0.40145987 ... 0.33523822 0.50624514 0.41610676]\n"
     ]
    }
   ],
   "source": [
    "print(vector_a)\n",
    "print(vector_b)"
   ]
  },
  {
   "cell_type": "code",
   "execution_count": 68,
   "id": "749a9327",
   "metadata": {},
   "outputs": [
    {
     "data": {
      "text/plain": [
       "Ttest_indResult(statistic=-103.25727519235977, pvalue=0.0)"
      ]
     },
     "execution_count": 68,
     "metadata": {},
     "output_type": "execute_result"
    }
   ],
   "source": [
    "ttest_ind(vector_a,vector_b)"
   ]
  },
  {
   "cell_type": "code",
   "execution_count": 43,
   "id": "218f05e3",
   "metadata": {},
   "outputs": [],
   "source": []
  },
  {
   "cell_type": "code",
   "execution_count": 41,
   "id": "70736a28",
   "metadata": {},
   "outputs": [],
   "source": []
  },
  {
   "cell_type": "code",
   "execution_count": 45,
   "id": "a9f34f4b",
   "metadata": {},
   "outputs": [
    {
     "name": "stderr",
     "output_type": "stream",
     "text": [
      "<ipython-input-45-62c8c677efb2>:1: SettingWithCopyWarning: \n",
      "A value is trying to be set on a copy of a slice from a DataFrame.\n",
      "Try using .loc[row_indexer,col_indexer] = value instead\n",
      "\n",
      "See the caveats in the documentation: https://pandas.pydata.org/pandas-docs/stable/user_guide/indexing.html#returning-a-view-versus-a-copy\n",
      "  data2['language'] = language_map(data2['language'])\n"
     ]
    }
   ],
   "source": []
  },
  {
   "cell_type": "code",
   "execution_count": 49,
   "id": "28d3f015",
   "metadata": {},
   "outputs": [],
   "source": []
  },
  {
   "cell_type": "code",
   "execution_count": 31,
   "id": "77ecd5f5",
   "metadata": {},
   "outputs": [
    {
     "data": {
      "text/plain": [
       "23          0.523810\n",
       "27          0.784226\n",
       "29          0.523810\n",
       "33          0.401460\n",
       "64          0.521739\n",
       "              ...   \n",
       "21747362    0.521739\n",
       "21747365    0.847315\n",
       "21747368    0.474138\n",
       "21747369    0.386022\n",
       "21747370    0.416107\n",
       "Name: weighted_vote_score, Length: 6976357, dtype: float64"
      ]
     },
     "execution_count": 31,
     "metadata": {},
     "output_type": "execute_result"
    }
   ],
   "source": [
    "dataset[dataset['weighted_vote_score'] != 0]['weighted_vote_score']"
   ]
  },
  {
   "cell_type": "code",
   "execution_count": null,
   "id": "6c921ce7",
   "metadata": {},
   "outputs": [],
   "source": []
  },
  {
   "cell_type": "code",
   "execution_count": null,
   "id": "58954fda",
   "metadata": {},
   "outputs": [],
   "source": []
  },
  {
   "cell_type": "code",
   "execution_count": null,
   "id": "6bfc0de9",
   "metadata": {},
   "outputs": [],
   "source": []
  },
  {
   "cell_type": "code",
   "execution_count": null,
   "id": "4ee2f9e2",
   "metadata": {},
   "outputs": [],
   "source": []
  },
  {
   "cell_type": "code",
   "execution_count": null,
   "id": "4c763544",
   "metadata": {},
   "outputs": [],
   "source": []
  },
  {
   "cell_type": "code",
   "execution_count": null,
   "id": "4b6ec916",
   "metadata": {},
   "outputs": [],
   "source": []
  },
  {
   "cell_type": "code",
   "execution_count": null,
   "id": "a836505b",
   "metadata": {},
   "outputs": [],
   "source": []
  },
  {
   "cell_type": "code",
   "execution_count": null,
   "id": "e47db327",
   "metadata": {},
   "outputs": [],
   "source": []
  }
 ],
 "metadata": {
  "interpreter": {
   "hash": "cef9e06bb236b2a8629b07e87a04b187b952a0f661eff5533360a155783f0c33"
  },
  "kernelspec": {
   "display_name": "Python 3",
   "language": "python",
   "name": "python3"
  },
  "language_info": {
   "codemirror_mode": {
    "name": "ipython",
    "version": 3
   },
   "file_extension": ".py",
   "mimetype": "text/x-python",
   "name": "python",
   "nbconvert_exporter": "python",
   "pygments_lexer": "ipython3",
   "version": "3.8.8"
  }
 },
 "nbformat": 4,
 "nbformat_minor": 5
}
