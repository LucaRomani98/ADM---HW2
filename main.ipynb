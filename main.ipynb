{
 "cells": [
  {
   "cell_type": "markdown",
   "id": "fe313820",
   "metadata": {},
   "source": [
    "# Homework 2 - Steam Reviews 2021"
   ]
  },
  {
   "cell_type": "markdown",
   "id": "3a50d26c",
   "metadata": {},
   "source": [
    "### Libraries"
   ]
  },
  {
   "cell_type": "markdown",
   "id": "70d62fc1",
   "metadata": {},
   "source": [
    "First let's import some useful libraries"
   ]
  },
  {
   "cell_type": "code",
   "execution_count": 1,
   "id": "5a55699f",
   "metadata": {},
   "outputs": [],
   "source": [
    "import pandas as pd\n",
    "import numpy as np\n",
    "from functions import *\n",
    "import seaborn as sns\n",
    "\n",
    "%matplotlib inline\n",
    "import matplotlib.pyplot as plt\n",
    "\n",
    "import datetime as dt\n",
    "import time\n",
    "\n",
    "from scipy.stats import pearsonr, mannwhitneyu"
   ]
  },
  {
   "cell_type": "markdown",
   "id": "90264b03",
   "metadata": {},
   "source": [
    "And load our dataset"
   ]
  },
  {
   "cell_type": "code",
   "execution_count": 2,
   "id": "a3913b83",
   "metadata": {},
   "outputs": [],
   "source": [
    "dataset = load_csv()"
   ]
  },
  {
   "cell_type": "markdown",
   "id": "c081416d",
   "metadata": {},
   "source": [
    "## [RQ1] Exploratory Data Analysis\n",
    "\n",
    "Let's first review the file.\n",
    "Our dataset is a collection of over 21 milion reviews of around 300 different games on the gaming platform Steam."
   ]
  },
  {
   "cell_type": "code",
   "execution_count": 3,
   "id": "429c7076",
   "metadata": {},
   "outputs": [
    {
     "data": {
      "text/html": [
       "<div>\n",
       "<style scoped>\n",
       "    .dataframe tbody tr th:only-of-type {\n",
       "        vertical-align: middle;\n",
       "    }\n",
       "\n",
       "    .dataframe tbody tr th {\n",
       "        vertical-align: top;\n",
       "    }\n",
       "\n",
       "    .dataframe thead th {\n",
       "        text-align: right;\n",
       "    }\n",
       "</style>\n",
       "<table border=\"1\" class=\"dataframe\">\n",
       "  <thead>\n",
       "    <tr style=\"text-align: right;\">\n",
       "      <th></th>\n",
       "      <th>app_name</th>\n",
       "      <th>language</th>\n",
       "      <th>timestamp_created</th>\n",
       "      <th>timestamp_updated</th>\n",
       "      <th>recommended</th>\n",
       "      <th>votes_helpful</th>\n",
       "      <th>votes_funny</th>\n",
       "      <th>weighted_vote_score</th>\n",
       "      <th>steam_purchase</th>\n",
       "      <th>received_for_free</th>\n",
       "      <th>author.steamid</th>\n",
       "    </tr>\n",
       "  </thead>\n",
       "  <tbody>\n",
       "    <tr>\n",
       "      <th>0</th>\n",
       "      <td>The Witcher 3: Wild Hunt</td>\n",
       "      <td>schinese</td>\n",
       "      <td>2021-01-23 06:00:29</td>\n",
       "      <td>2021-01-23 06:00:29</td>\n",
       "      <td>True</td>\n",
       "      <td>0</td>\n",
       "      <td>0</td>\n",
       "      <td>0.000000</td>\n",
       "      <td>True</td>\n",
       "      <td>False</td>\n",
       "      <td>76561199095369542</td>\n",
       "    </tr>\n",
       "    <tr>\n",
       "      <th>1</th>\n",
       "      <td>The Witcher 3: Wild Hunt</td>\n",
       "      <td>schinese</td>\n",
       "      <td>2021-01-23 05:50:30</td>\n",
       "      <td>2021-01-23 05:50:30</td>\n",
       "      <td>True</td>\n",
       "      <td>0</td>\n",
       "      <td>0</td>\n",
       "      <td>0.000000</td>\n",
       "      <td>True</td>\n",
       "      <td>False</td>\n",
       "      <td>76561198949504115</td>\n",
       "    </tr>\n",
       "    <tr>\n",
       "      <th>2</th>\n",
       "      <td>The Witcher 3: Wild Hunt</td>\n",
       "      <td>schinese</td>\n",
       "      <td>2021-01-23 05:46:40</td>\n",
       "      <td>2021-01-23 05:46:40</td>\n",
       "      <td>True</td>\n",
       "      <td>0</td>\n",
       "      <td>0</td>\n",
       "      <td>0.000000</td>\n",
       "      <td>True</td>\n",
       "      <td>False</td>\n",
       "      <td>76561199090098988</td>\n",
       "    </tr>\n",
       "    <tr>\n",
       "      <th>3</th>\n",
       "      <td>The Witcher 3: Wild Hunt</td>\n",
       "      <td>english</td>\n",
       "      <td>2021-01-23 05:32:50</td>\n",
       "      <td>2021-01-23 05:32:50</td>\n",
       "      <td>True</td>\n",
       "      <td>0</td>\n",
       "      <td>0</td>\n",
       "      <td>0.000000</td>\n",
       "      <td>True</td>\n",
       "      <td>False</td>\n",
       "      <td>76561199054755373</td>\n",
       "    </tr>\n",
       "    <tr>\n",
       "      <th>4</th>\n",
       "      <td>The Witcher 3: Wild Hunt</td>\n",
       "      <td>schinese</td>\n",
       "      <td>2021-01-23 05:23:47</td>\n",
       "      <td>2021-01-23 05:23:47</td>\n",
       "      <td>True</td>\n",
       "      <td>0</td>\n",
       "      <td>0</td>\n",
       "      <td>0.000000</td>\n",
       "      <td>True</td>\n",
       "      <td>False</td>\n",
       "      <td>76561199028326951</td>\n",
       "    </tr>\n",
       "    <tr>\n",
       "      <th>...</th>\n",
       "      <td>...</td>\n",
       "      <td>...</td>\n",
       "      <td>...</td>\n",
       "      <td>...</td>\n",
       "      <td>...</td>\n",
       "      <td>...</td>\n",
       "      <td>...</td>\n",
       "      <td>...</td>\n",
       "      <td>...</td>\n",
       "      <td>...</td>\n",
       "      <td>...</td>\n",
       "    </tr>\n",
       "    <tr>\n",
       "      <th>21747366</th>\n",
       "      <td>Half-Life: Alyx</td>\n",
       "      <td>english</td>\n",
       "      <td>2020-03-23 18:05:04</td>\n",
       "      <td>2020-03-23 18:05:04</td>\n",
       "      <td>True</td>\n",
       "      <td>0</td>\n",
       "      <td>0</td>\n",
       "      <td>0.000000</td>\n",
       "      <td>True</td>\n",
       "      <td>False</td>\n",
       "      <td>76561197967033932</td>\n",
       "    </tr>\n",
       "    <tr>\n",
       "      <th>21747367</th>\n",
       "      <td>Half-Life: Alyx</td>\n",
       "      <td>english</td>\n",
       "      <td>2020-03-23 18:04:53</td>\n",
       "      <td>2020-03-23 18:04:53</td>\n",
       "      <td>True</td>\n",
       "      <td>0</td>\n",
       "      <td>0</td>\n",
       "      <td>0.000000</td>\n",
       "      <td>False</td>\n",
       "      <td>False</td>\n",
       "      <td>76561198046495482</td>\n",
       "    </tr>\n",
       "    <tr>\n",
       "      <th>21747368</th>\n",
       "      <td>Half-Life: Alyx</td>\n",
       "      <td>english</td>\n",
       "      <td>2020-03-23 18:04:33</td>\n",
       "      <td>2020-03-23 18:04:33</td>\n",
       "      <td>True</td>\n",
       "      <td>0</td>\n",
       "      <td>0</td>\n",
       "      <td>0.474138</td>\n",
       "      <td>True</td>\n",
       "      <td>False</td>\n",
       "      <td>76561198176379749</td>\n",
       "    </tr>\n",
       "    <tr>\n",
       "      <th>21747369</th>\n",
       "      <td>Half-Life: Alyx</td>\n",
       "      <td>english</td>\n",
       "      <td>2020-03-23 18:03:51</td>\n",
       "      <td>2020-04-08 21:47:02</td>\n",
       "      <td>True</td>\n",
       "      <td>0</td>\n",
       "      <td>0</td>\n",
       "      <td>0.386022</td>\n",
       "      <td>True</td>\n",
       "      <td>False</td>\n",
       "      <td>76561198041763187</td>\n",
       "    </tr>\n",
       "    <tr>\n",
       "      <th>21747370</th>\n",
       "      <td>Half-Life: Alyx</td>\n",
       "      <td>schinese</td>\n",
       "      <td>2020-03-23 18:01:45</td>\n",
       "      <td>2020-06-13 15:06:40</td>\n",
       "      <td>True</td>\n",
       "      <td>0</td>\n",
       "      <td>0</td>\n",
       "      <td>0.416107</td>\n",
       "      <td>True</td>\n",
       "      <td>False</td>\n",
       "      <td>76561198116747069</td>\n",
       "    </tr>\n",
       "  </tbody>\n",
       "</table>\n",
       "<p>21747371 rows × 11 columns</p>\n",
       "</div>"
      ],
      "text/plain": [
       "                          app_name  language   timestamp_created  \\\n",
       "0         The Witcher 3: Wild Hunt  schinese 2021-01-23 06:00:29   \n",
       "1         The Witcher 3: Wild Hunt  schinese 2021-01-23 05:50:30   \n",
       "2         The Witcher 3: Wild Hunt  schinese 2021-01-23 05:46:40   \n",
       "3         The Witcher 3: Wild Hunt   english 2021-01-23 05:32:50   \n",
       "4         The Witcher 3: Wild Hunt  schinese 2021-01-23 05:23:47   \n",
       "...                            ...       ...                 ...   \n",
       "21747366           Half-Life: Alyx   english 2020-03-23 18:05:04   \n",
       "21747367           Half-Life: Alyx   english 2020-03-23 18:04:53   \n",
       "21747368           Half-Life: Alyx   english 2020-03-23 18:04:33   \n",
       "21747369           Half-Life: Alyx   english 2020-03-23 18:03:51   \n",
       "21747370           Half-Life: Alyx  schinese 2020-03-23 18:01:45   \n",
       "\n",
       "           timestamp_updated  recommended  votes_helpful  votes_funny  \\\n",
       "0        2021-01-23 06:00:29         True              0            0   \n",
       "1        2021-01-23 05:50:30         True              0            0   \n",
       "2        2021-01-23 05:46:40         True              0            0   \n",
       "3        2021-01-23 05:32:50         True              0            0   \n",
       "4        2021-01-23 05:23:47         True              0            0   \n",
       "...                      ...          ...            ...          ...   \n",
       "21747366 2020-03-23 18:05:04         True              0            0   \n",
       "21747367 2020-03-23 18:04:53         True              0            0   \n",
       "21747368 2020-03-23 18:04:33         True              0            0   \n",
       "21747369 2020-04-08 21:47:02         True              0            0   \n",
       "21747370 2020-06-13 15:06:40         True              0            0   \n",
       "\n",
       "          weighted_vote_score  steam_purchase  received_for_free  \\\n",
       "0                    0.000000            True              False   \n",
       "1                    0.000000            True              False   \n",
       "2                    0.000000            True              False   \n",
       "3                    0.000000            True              False   \n",
       "4                    0.000000            True              False   \n",
       "...                       ...             ...                ...   \n",
       "21747366             0.000000            True              False   \n",
       "21747367             0.000000           False              False   \n",
       "21747368             0.474138            True              False   \n",
       "21747369             0.386022            True              False   \n",
       "21747370             0.416107            True              False   \n",
       "\n",
       "             author.steamid  \n",
       "0         76561199095369542  \n",
       "1         76561198949504115  \n",
       "2         76561199090098988  \n",
       "3         76561199054755373  \n",
       "4         76561199028326951  \n",
       "...                     ...  \n",
       "21747366  76561197967033932  \n",
       "21747367  76561198046495482  \n",
       "21747368  76561198176379749  \n",
       "21747369  76561198041763187  \n",
       "21747370  76561198116747069  \n",
       "\n",
       "[21747371 rows x 11 columns]"
      ]
     },
     "execution_count": 3,
     "metadata": {},
     "output_type": "execute_result"
    }
   ],
   "source": [
    "dataset"
   ]
  },
  {
   "cell_type": "code",
   "execution_count": 4,
   "id": "62496f23",
   "metadata": {},
   "outputs": [
    {
     "data": {
      "text/plain": [
       "315"
      ]
     },
     "execution_count": 4,
     "metadata": {},
     "output_type": "execute_result"
    }
   ],
   "source": [
    "dataset['app_name'].nunique()"
   ]
  },
  {
   "cell_type": "markdown",
   "id": "7a06009e",
   "metadata": {},
   "source": [
    "We have **315 different games** being reviewed in our dataset.\n",
    "\n",
    "The original dataset had over 20 columns of values, but we didn't need to work with all of them, so we took only the following columns to make the loading process faster:"
   ]
  },
  {
   "cell_type": "code",
   "execution_count": 5,
   "id": "7936fce5",
   "metadata": {},
   "outputs": [
    {
     "name": "stdout",
     "output_type": "stream",
     "text": [
      "['app_name', 'language', 'timestamp_created', 'timestamp_updated', 'recommended', 'votes_helpful', 'votes_funny', 'weighted_vote_score', 'steam_purchase', 'received_for_free', 'author.steamid']\n"
     ]
    }
   ],
   "source": [
    "print(list(dataset.columns))"
   ]
  },
  {
   "cell_type": "markdown",
   "id": "ed3db833",
   "metadata": {},
   "source": [
    "We can find informations about the review, the language it was written in, the time it was posted (and when it was updated), the votes it received and informations about its author.\n",
    "\n",
    "Before going in a more detailed analysis, let's begin by doing an exploratory data analysis with our dataset.\n",
    "The first thing we did is analyze the correlation between various entries of the dataset. This is the *correlation table*:"
   ]
  },
  {
   "cell_type": "code",
   "execution_count": 6,
   "id": "3ed88d57",
   "metadata": {},
   "outputs": [
    {
     "data": {
      "text/html": [
       "<div>\n",
       "<style scoped>\n",
       "    .dataframe tbody tr th:only-of-type {\n",
       "        vertical-align: middle;\n",
       "    }\n",
       "\n",
       "    .dataframe tbody tr th {\n",
       "        vertical-align: top;\n",
       "    }\n",
       "\n",
       "    .dataframe thead th {\n",
       "        text-align: right;\n",
       "    }\n",
       "</style>\n",
       "<table border=\"1\" class=\"dataframe\">\n",
       "  <thead>\n",
       "    <tr style=\"text-align: right;\">\n",
       "      <th></th>\n",
       "      <th>recommended</th>\n",
       "      <th>votes_helpful</th>\n",
       "      <th>votes_funny</th>\n",
       "      <th>weighted_vote_score</th>\n",
       "      <th>steam_purchase</th>\n",
       "      <th>received_for_free</th>\n",
       "      <th>author.steamid</th>\n",
       "    </tr>\n",
       "  </thead>\n",
       "  <tbody>\n",
       "    <tr>\n",
       "      <th>recommended</th>\n",
       "      <td>1.000000</td>\n",
       "      <td>0.000115</td>\n",
       "      <td>-0.001702</td>\n",
       "      <td>-0.183002</td>\n",
       "      <td>-0.000171</td>\n",
       "      <td>0.007285</td>\n",
       "      <td>0.049478</td>\n",
       "    </tr>\n",
       "    <tr>\n",
       "      <th>votes_helpful</th>\n",
       "      <td>0.000115</td>\n",
       "      <td>1.000000</td>\n",
       "      <td>-0.000002</td>\n",
       "      <td>0.000137</td>\n",
       "      <td>0.000164</td>\n",
       "      <td>-0.000055</td>\n",
       "      <td>-0.000114</td>\n",
       "    </tr>\n",
       "    <tr>\n",
       "      <th>votes_funny</th>\n",
       "      <td>-0.001702</td>\n",
       "      <td>-0.000002</td>\n",
       "      <td>1.000000</td>\n",
       "      <td>0.007252</td>\n",
       "      <td>-0.000369</td>\n",
       "      <td>0.000468</td>\n",
       "      <td>-0.002710</td>\n",
       "    </tr>\n",
       "    <tr>\n",
       "      <th>weighted_vote_score</th>\n",
       "      <td>-0.183002</td>\n",
       "      <td>0.000137</td>\n",
       "      <td>0.007252</td>\n",
       "      <td>1.000000</td>\n",
       "      <td>-0.043215</td>\n",
       "      <td>0.008400</td>\n",
       "      <td>-0.155213</td>\n",
       "    </tr>\n",
       "    <tr>\n",
       "      <th>steam_purchase</th>\n",
       "      <td>-0.000171</td>\n",
       "      <td>0.000164</td>\n",
       "      <td>-0.000369</td>\n",
       "      <td>-0.043215</td>\n",
       "      <td>1.000000</td>\n",
       "      <td>-0.128136</td>\n",
       "      <td>0.100307</td>\n",
       "    </tr>\n",
       "    <tr>\n",
       "      <th>received_for_free</th>\n",
       "      <td>0.007285</td>\n",
       "      <td>-0.000055</td>\n",
       "      <td>0.000468</td>\n",
       "      <td>0.008400</td>\n",
       "      <td>-0.128136</td>\n",
       "      <td>1.000000</td>\n",
       "      <td>0.067089</td>\n",
       "    </tr>\n",
       "    <tr>\n",
       "      <th>author.steamid</th>\n",
       "      <td>0.049478</td>\n",
       "      <td>-0.000114</td>\n",
       "      <td>-0.002710</td>\n",
       "      <td>-0.155213</td>\n",
       "      <td>0.100307</td>\n",
       "      <td>0.067089</td>\n",
       "      <td>1.000000</td>\n",
       "    </tr>\n",
       "  </tbody>\n",
       "</table>\n",
       "</div>"
      ],
      "text/plain": [
       "                     recommended  votes_helpful  votes_funny  \\\n",
       "recommended             1.000000       0.000115    -0.001702   \n",
       "votes_helpful           0.000115       1.000000    -0.000002   \n",
       "votes_funny            -0.001702      -0.000002     1.000000   \n",
       "weighted_vote_score    -0.183002       0.000137     0.007252   \n",
       "steam_purchase         -0.000171       0.000164    -0.000369   \n",
       "received_for_free       0.007285      -0.000055     0.000468   \n",
       "author.steamid          0.049478      -0.000114    -0.002710   \n",
       "\n",
       "                     weighted_vote_score  steam_purchase  received_for_free  \\\n",
       "recommended                    -0.183002       -0.000171           0.007285   \n",
       "votes_helpful                   0.000137        0.000164          -0.000055   \n",
       "votes_funny                     0.007252       -0.000369           0.000468   \n",
       "weighted_vote_score             1.000000       -0.043215           0.008400   \n",
       "steam_purchase                 -0.043215        1.000000          -0.128136   \n",
       "received_for_free               0.008400       -0.128136           1.000000   \n",
       "author.steamid                 -0.155213        0.100307           0.067089   \n",
       "\n",
       "                     author.steamid  \n",
       "recommended                0.049478  \n",
       "votes_helpful             -0.000114  \n",
       "votes_funny               -0.002710  \n",
       "weighted_vote_score       -0.155213  \n",
       "steam_purchase             0.100307  \n",
       "received_for_free          0.067089  \n",
       "author.steamid             1.000000  "
      ]
     },
     "execution_count": 6,
     "metadata": {},
     "output_type": "execute_result"
    }
   ],
   "source": [
    "dataset.corr()"
   ]
  },
  {
   "cell_type": "markdown",
   "id": "3511abf8",
   "metadata": {},
   "source": [
    "There is no clear correlation between the values. The only one worth noticing is the correlation between the *weighted vote score* and the *recommended* value. We did a scatter plot of the two variables:"
   ]
  },
  {
   "cell_type": "code",
   "execution_count": 7,
   "id": "1e441e08",
   "metadata": {},
   "outputs": [
    {
     "data": {
      "text/plain": [
       "<function matplotlib.pyplot.show(close=None, block=None)>"
      ]
     },
     "execution_count": 7,
     "metadata": {},
     "output_type": "execute_result"
    },
    {
     "data": {
      "image/png": "[encoded data removed]",
      "text/plain": [
       "<Figure size 360x360 with 1 Axes>"
      ]
     },
     "metadata": {
      "needs_background": "light"
     },
     "output_type": "display_data"
    }
   ],
   "source": [
    "plt.figure(figsize = (5,5))\n",
    "plt.scatter(x = dataset['weighted_vote_score'], y = dataset['recommended'])\n",
    "plt.show"
   ]
  },
  {
   "cell_type": "markdown",
   "id": "2cd331c2",
   "metadata": {},
   "source": [
    "Unfortunately there is now true correlation between the variables. The value we obtained was due to the range the variables assume. In fact the *recommended* column only takes value of 0 and 1 while the *weighted_vote_score takes* values in [0,1]"
   ]
  },
  {
   "cell_type": "markdown",
   "id": "930720b0",
   "metadata": {},
   "source": [
    "Last thing we did was using the **Pandas** built-in function *describe* to gather some information about the distribution of the variables. Here are the results:"
   ]
  },
  {
   "cell_type": "code",
   "execution_count": 8,
   "id": "80977969",
   "metadata": {},
   "outputs": [
    {
     "data": {
      "text/html": [
       "<div>\n",
       "<style scoped>\n",
       "    .dataframe tbody tr th:only-of-type {\n",
       "        vertical-align: middle;\n",
       "    }\n",
       "\n",
       "    .dataframe tbody tr th {\n",
       "        vertical-align: top;\n",
       "    }\n",
       "\n",
       "    .dataframe thead th {\n",
       "        text-align: right;\n",
       "    }\n",
       "</style>\n",
       "<table border=\"1\" class=\"dataframe\">\n",
       "  <thead>\n",
       "    <tr style=\"text-align: right;\">\n",
       "      <th></th>\n",
       "      <th>votes_helpful</th>\n",
       "      <th>votes_funny</th>\n",
       "      <th>weighted_vote_score</th>\n",
       "      <th>author.steamid</th>\n",
       "    </tr>\n",
       "  </thead>\n",
       "  <tbody>\n",
       "    <tr>\n",
       "      <th>count</th>\n",
       "      <td>2.174737e+07</td>\n",
       "      <td>2.174737e+07</td>\n",
       "      <td>2.174737e+07</td>\n",
       "      <td>2.174737e+07</td>\n",
       "    </tr>\n",
       "    <tr>\n",
       "      <th>mean</th>\n",
       "      <td>4.044689e+05</td>\n",
       "      <td>1.267917e+05</td>\n",
       "      <td>1.654424e-01</td>\n",
       "      <td>7.656120e+16</td>\n",
       "    </tr>\n",
       "    <tr>\n",
       "      <th>std</th>\n",
       "      <td>1.333741e+09</td>\n",
       "      <td>2.333553e+07</td>\n",
       "      <td>2.434006e-01</td>\n",
       "      <td>3.179438e+08</td>\n",
       "    </tr>\n",
       "    <tr>\n",
       "      <th>min</th>\n",
       "      <td>0.000000e+00</td>\n",
       "      <td>0.000000e+00</td>\n",
       "      <td>0.000000e+00</td>\n",
       "      <td>7.656120e+16</td>\n",
       "    </tr>\n",
       "    <tr>\n",
       "      <th>25%</th>\n",
       "      <td>0.000000e+00</td>\n",
       "      <td>0.000000e+00</td>\n",
       "      <td>0.000000e+00</td>\n",
       "      <td>7.656120e+16</td>\n",
       "    </tr>\n",
       "    <tr>\n",
       "      <th>50%</th>\n",
       "      <td>0.000000e+00</td>\n",
       "      <td>0.000000e+00</td>\n",
       "      <td>0.000000e+00</td>\n",
       "      <td>7.656120e+16</td>\n",
       "    </tr>\n",
       "    <tr>\n",
       "      <th>75%</th>\n",
       "      <td>1.000000e+00</td>\n",
       "      <td>0.000000e+00</td>\n",
       "      <td>4.827586e-01</td>\n",
       "      <td>7.656120e+16</td>\n",
       "    </tr>\n",
       "    <tr>\n",
       "      <th>max</th>\n",
       "      <td>4.398047e+12</td>\n",
       "      <td>4.294967e+09</td>\n",
       "      <td>9.959868e-01</td>\n",
       "      <td>7.656120e+16</td>\n",
       "    </tr>\n",
       "  </tbody>\n",
       "</table>\n",
       "</div>"
      ],
      "text/plain": [
       "       votes_helpful   votes_funny  weighted_vote_score  author.steamid\n",
       "count   2.174737e+07  2.174737e+07         2.174737e+07    2.174737e+07\n",
       "mean    4.044689e+05  1.267917e+05         1.654424e-01    7.656120e+16\n",
       "std     1.333741e+09  2.333553e+07         2.434006e-01    3.179438e+08\n",
       "min     0.000000e+00  0.000000e+00         0.000000e+00    7.656120e+16\n",
       "25%     0.000000e+00  0.000000e+00         0.000000e+00    7.656120e+16\n",
       "50%     0.000000e+00  0.000000e+00         0.000000e+00    7.656120e+16\n",
       "75%     1.000000e+00  0.000000e+00         4.827586e-01    7.656120e+16\n",
       "max     4.398047e+12  4.294967e+09         9.959868e-01    7.656120e+16"
      ]
     },
     "execution_count": 8,
     "metadata": {},
     "output_type": "execute_result"
    }
   ],
   "source": [
    "dataset.describe()"
   ]
  },
  {
   "cell_type": "markdown",
   "id": "32cb90b8",
   "metadata": {},
   "source": [
    "## [RQ2] Information about the games\n",
    "\n",
    "First of all, we want to analyze which games are the most reviewed and which games were the most recommended.We used the **Pandas** built-in function *value_counts* to do a bar plot of the 10 most reviewed games, in descending order.\n",
    "These are the results:"
   ]
  },
  {
   "cell_type": "code",
   "execution_count": 9,
   "id": "506a5036",
   "metadata": {},
   "outputs": [
    {
     "data": {
      "text/plain": [
       "<AxesSubplot:title={'center':'Reviews amount for each App'}, xlabel='Application name', ylabel='Number of Reviews'>"
      ]
     },
     "execution_count": 9,
     "metadata": {},
     "output_type": "execute_result"
    },
    {
     "data": {
      "image/png": "[encoded data removed]",
      "text/plain": [
       "<Figure size 1512x1224 with 1 Axes>"
      ]
     },
     "metadata": {
      "needs_background": "light"
     },
     "output_type": "display_data"
    }
   ],
   "source": [
    "dataset['app_name'].value_counts()[:10].plot.bar(figsize = (21,17), title=\"Reviews amount for each App\", \n",
    "                                                 xlabel = 'Application name', ylabel = 'Number of Reviews', color = 'green')"
   ]
  },
  {
   "cell_type": "markdown",
   "id": "47d52a34",
   "metadata": {},
   "source": [
    "| **Game Name** | **Rank** |\n",
    "|-------------------------------|-----|\n",
    "| PLAYERUNKNOWN'S BATTLEGROUNDS | 1 |\n",
    "| Greand Theft Auto V | 2 |\n",
    "|Tom Clancy's Rainbow Six Siege | 3 |\n",
    "|Terraria | 4 |\n",
    "|Garry's Mod | 5 |\n",
    "|Rust | 6 |\n",
    "|Rocket Leaugue | 7 |\n",
    "|PAYDAY 2 | 8 |\n",
    "|Among Us | 9 |\n",
    "|The Witcher 3: Wild Hunt|10|\n",
    "\n",
    "\n",
    "Let's now see which application has the best *Weighted Vote Score* (WVS). Since every review has a different WVS we decided to do a *groupby* method to separate the dataset by the name of the application, and then, for each game, find the mean value of the WVS. With this method we found out that the game with the highest WVS was **Hunt Down The Freeman**"
   ]
  },
  {
   "cell_type": "code",
   "execution_count": 10,
   "id": "6b14d947",
   "metadata": {},
   "outputs": [
    {
     "data": {
      "text/plain": [
       "'Hunt Down The Freeman'"
      ]
     },
     "execution_count": 10,
     "metadata": {},
     "output_type": "execute_result"
    }
   ],
   "source": [
    "dataset.groupby('app_name')['weighted_vote_score'].mean().idxmax()"
   ]
  },
  {
   "cell_type": "markdown",
   "id": "75ef4b18",
   "metadata": {},
   "source": [
    "Let's now search for the most and the least recommended games on steam. To do this we decided to search for the games with the highest  and lowest percentage of reviews that recommended it. We chose this method because we didn't want to take into consideration the number of reviews a game has, since it is not a good indicator for the quality of a game. For example a game like *PLAYERUNKNOWN'S BATTLEGROUNDS* will have many recommendation but this is caused by the huge number of reviews it has. In this way a game that has few reviews but almost all of them positive, or negative, will be taken into consideration.\n",
    "We achieved these results by doing a *groupby* method on the name of the game and calculating the *mean* on the *recommended* column:"
   ]
  },
  {
   "cell_type": "code",
   "execution_count": 11,
   "id": "bb7a66da",
   "metadata": {},
   "outputs": [
    {
     "data": {
      "text/plain": [
       "app_name\n",
       "ULTRAKILL                        0.995344\n",
       "Senren＊Banka                     0.994041\n",
       "A Short Hike                     0.991449\n",
       "The Henry Stickmin Collection    0.990258\n",
       "Factorio                         0.989186\n",
       "Name: recommended, dtype: float64"
      ]
     },
     "execution_count": 11,
     "metadata": {},
     "output_type": "execute_result"
    }
   ],
   "source": [
    "dataset.groupby('app_name').recommended.mean().nlargest(5)"
   ]
  },
  {
   "cell_type": "markdown",
   "id": "6f5a50ca",
   "metadata": {},
   "source": [
    "The top 5 recommended games on Steam are:\n",
    "\n",
    "|**Rank**| **Game Name** |**Percentage of Recommendation**|\n",
    "|---------|---------------------------|-----------|\n",
    "| 1 | ULTRAKILL | 99.53 % |\n",
    "| 2 | Senren * Banka | 99.40 % |\n",
    "| 3 | A Short Hike | 99.14 % |\n",
    "| 4 | The Henry Stickmin Collection | 99.03 %|\n",
    "| 5 | Factorio | 98.92 % |\n"
   ]
  },
  {
   "cell_type": "code",
   "execution_count": 12,
   "id": "01ba3ffb",
   "metadata": {},
   "outputs": [
    {
     "data": {
      "text/plain": [
       "app_name\n",
       "Identity                      0.243348\n",
       "RollerCoaster Tycoon World    0.245098\n",
       "SOS                           0.278406\n",
       "Umbrella Corps                0.282236\n",
       "NBA 2K18                      0.291965\n",
       "Name: recommended, dtype: float64"
      ]
     },
     "execution_count": 12,
     "metadata": {},
     "output_type": "execute_result"
    }
   ],
   "source": [
    "dataset.groupby('app_name').recommended.mean().nsmallest(5)"
   ]
  },
  {
   "cell_type": "markdown",
   "id": "2c6c59e0",
   "metadata": {},
   "source": [
    "The top 5 least recommended games on Steam are:\n",
    "\n",
    "|**Rank**| **Game Name** |**Percentage of Recommendation**|\n",
    "|---------|---------------------------|-----------|\n",
    "| 315 | Identity | 24.33 % |\n",
    "| 314 | RollerCoaster Tycoon World | 24.50 % |\n",
    "| 313 | SOS | 27.84 % |\n",
    "| 312 | Umbrella Corps | 28.22 %|\n",
    "| 311 | NBA 2K18 | 29.20 % |\n",
    "\n",
    "\n",
    "Let's now focus on the most recommended game and the least recommended game and check how many reviewers puchased these games or received them for free."
   ]
  },
  {
   "cell_type": "code",
   "execution_count": 13,
   "id": "2d5531b7",
   "metadata": {},
   "outputs": [
    {
     "data": {
      "text/plain": [
       "False    5480\n",
       "True      104\n",
       "Name: received_for_free, dtype: int64"
      ]
     },
     "execution_count": 13,
     "metadata": {},
     "output_type": "execute_result"
    },
    {
     "data": {
      "image/png": "[encoded data removed]",
      "text/plain": [
       "<Figure size 432x288 with 1 Axes>"
      ]
     },
     "metadata": {
      "needs_background": "light"
     },
     "output_type": "display_data"
    }
   ],
   "source": [
    "dataset[dataset['app_name']==\"ULTRAKILL\"]['received_for_free'].value_counts().plot.bar(color = 'red',xlabel = 'Received for free',\n",
    "                                                                                                          ylabel = 'Amount',\n",
    "                                                                                                          title = \"Data for ULTRAKILL\")\n",
    "dataset[dataset['app_name']==\"ULTRAKILL\"]['received_for_free'].value_counts()"
   ]
  },
  {
   "cell_type": "markdown",
   "id": "46d754ea",
   "metadata": {},
   "source": [
    "In the case of **ULTRAKILL** we can see that 5480 reviewers purchased the game, whether on Steam or on a 3rd party platform and 104 reviewers received it for free."
   ]
  },
  {
   "cell_type": "code",
   "execution_count": 14,
   "id": "0320f06d",
   "metadata": {},
   "outputs": [
    {
     "data": {
      "text/plain": [
       "False    1764\n",
       "True       40\n",
       "Name: received_for_free, dtype: int64"
      ]
     },
     "execution_count": 14,
     "metadata": {},
     "output_type": "execute_result"
    },
    {
     "data": {
      "image/png": "[encoded data removed]",
      "text/plain": [
       "<Figure size 432x288 with 1 Axes>"
      ]
     },
     "metadata": {
      "needs_background": "light"
     },
     "output_type": "display_data"
    }
   ],
   "source": [
    "dataset[dataset['app_name']==\"Identity\"]['received_for_free'].value_counts().plot.bar(xlabel = 'Received for free',\n",
    "                                                                                            ylabel = 'Amount',\n",
    "                                                                                            title = \"Data for Identity\")\n",
    "dataset[dataset['app_name']==\"Identity\"]['received_for_free'].value_counts()"
   ]
  },
  {
   "cell_type": "markdown",
   "id": "79431217",
   "metadata": {},
   "source": [
    "In the case of **Identity** we can see that 1764 reviewers purchased the game, whether on Steam or on a 3rd party platform and 40 reviewers received it for free."
   ]
  },
  {
   "cell_type": "markdown",
   "id": "6b9e0448",
   "metadata": {},
   "source": [
    "## [RQ3]Information about the time of the reviews\n",
    "\n",
    "We are now interested in understanding the preferred time to do reviews.\n",
    "Let's first see what is the most common time for the authors to write a review; to do this we took the *hour* and the minute *value* from the *timestamp_created* and then did a *bar plot* of the 15 most frequent entries. These are the results:"
   ]
  },
  {
   "cell_type": "code",
   "execution_count": 15,
   "id": "71fa6812",
   "metadata": {},
   "outputs": [
    {
     "data": {
      "text/plain": [
       "<AxesSubplot:xlabel='Time of Reviews', ylabel='Amount of Reviews'>"
      ]
     },
     "execution_count": 15,
     "metadata": {},
     "output_type": "execute_result"
    },
    {
     "data": {
      "image/png": "[encoded data removed]",
      "text/plain": [
       "<Figure size 1440x720 with 1 Axes>"
      ]
     },
     "metadata": {
      "needs_background": "light"
     },
     "output_type": "display_data"
    }
   ],
   "source": [
    "dataset['timestamp_created'].dt.strftime('%H:%M').value_counts()[:15].plot.bar(figsize = (20,10), color = 'green',\n",
    "                                                                              xlabel = 'Time of Reviews',\n",
    "                                                                              ylabel = 'Amount of Reviews')"
   ]
  },
  {
   "cell_type": "markdown",
   "id": "da0d77fa",
   "metadata": {},
   "source": [
    "The most common time is **14:50**, but as we can see, all the most common times are in the early afternoon. So let's analyze this thing better by checking time intervals instead of single minutes.\n",
    "These are the time intervals we are going to check:\n",
    "\n",
    "| **Initial Time** | **Final Time** |\n",
    "|--------|--------|\n",
    "|06:00:00|10:59:59|\n",
    "|11:00:00|13:59:59|\n",
    "|14:00:00|16:59:59|\n",
    "|17:00:00|19:59:59|\n",
    "|20:00:00|23:59:59|\n",
    "|00:00:00|02:59:59|\n",
    "|03:00:00|05:59:59|"
   ]
  },
  {
   "cell_type": "code",
   "execution_count": 16,
   "id": "705f0ba0",
   "metadata": {},
   "outputs": [
    {
     "data": {
      "image/png": "[encoded data removed]",
      "text/plain": [
       "<Figure size 432x288 with 1 Axes>"
      ]
     },
     "metadata": {
      "needs_background": "light"
     },
     "output_type": "display_data"
    }
   ],
   "source": [
    "divide_and_plot(dataset, custom_time_intervals())"
   ]
  },
  {
   "cell_type": "markdown",
   "id": "0baa1e24",
   "metadata": {},
   "source": [
    "As we can see our hypothesis was false since most of the reviews are written from **6:00** to **11:00**. This may be caused by the difference of time intervals' length."
   ]
  },
  {
   "cell_type": "markdown",
   "id": "7fc6946c",
   "metadata": {},
   "source": [
    "## [RQ4] Information about the languages\n",
    "\n",
    "Let's now analyze the languages the reviews are written in.\n",
    "First of all we checked the most frequent languages, doing a *value_counts* and then plotting it in a *bar plot*.\n",
    "This is what we obtained:\n",
    "\n"
   ]
  },
  {
   "cell_type": "code",
   "execution_count": 17,
   "id": "2442d997",
   "metadata": {},
   "outputs": [
    {
     "data": {
      "text/plain": [
       "<AxesSubplot:title={'center':'Data of languages'}, xlabel='Languages', ylabel='Amount of Reviews'>"
      ]
     },
     "execution_count": 17,
     "metadata": {},
     "output_type": "execute_result"
    },
    {
     "data": {
      "image/png": "[encoded data removed]",
      "text/plain": [
       "<Figure size 1944x576 with 1 Axes>"
      ]
     },
     "metadata": {
      "needs_background": "light"
     },
     "output_type": "display_data"
    }
   ],
   "source": [
    "dataset['language'].value_counts().plot.bar(figsize = (27,8), title = 'Data of languages', color = 'olive',\n",
    "                                            xlabel = 'Languages', \n",
    "                                            ylabel = 'Amount of Reviews')"
   ]
  },
  {
   "cell_type": "markdown",
   "id": "9559b4a1",
   "metadata": {},
   "source": [
    "We can see that the 3 most used languages are **english**, **semplified chinese** and **russian**. Let's now focus on the reviews written in these languages. We created a new dataset using our custom function *filter_by_language*, that takes as input the dataset and a list on languages, and returns the filtered dataset."
   ]
  },
  {
   "cell_type": "code",
   "execution_count": 18,
   "id": "6cbfe7cb",
   "metadata": {},
   "outputs": [],
   "source": [
    "language_list = ['english', 'russian', 'schinese']\n",
    "filt_ds = filter_by_language(dataset,language_list)"
   ]
  },
  {
   "cell_type": "markdown",
   "id": "f1557c91",
   "metadata": {},
   "source": [
    "Let's now see how many of the reviews of this new dataset were voted as **funny** or **helpful**. To do this we used a custom function that counts how many reviews have at least one vote in each category and then calculate the percentage by simply finding the ratio between this found number and the total amount of the reviews.\n",
    "For the percentage of **funny** votes this is what we obtained:"
   ]
  },
  {
   "cell_type": "code",
   "execution_count": 19,
   "id": "a71965f7",
   "metadata": {},
   "outputs": [
    {
     "data": {
      "image/png": "[encoded data removed]",
      "text/plain": [
       "<Figure size 432x288 with 1 Axes>"
      ]
     },
     "metadata": {},
     "output_type": "display_data"
    }
   ],
   "source": [
    "perc = funny_percentage(filt_ds)\n",
    "plot_percentage(perc, 'Was voted as funny')"
   ]
  },
  {
   "cell_type": "markdown",
   "id": "5e2bfa83",
   "metadata": {},
   "source": [
    "For the percentage of **helpful** votes this is what we obtained:"
   ]
  },
  {
   "cell_type": "code",
   "execution_count": 20,
   "id": "d548e4d3",
   "metadata": {},
   "outputs": [
    {
     "data": {
      "image/png": "[encoded data removed]",
      "text/plain": [
       "<Figure size 432x288 with 1 Axes>"
      ]
     },
     "metadata": {},
     "output_type": "display_data"
    }
   ],
   "source": [
    "plot_percentage(helpful_percentage(filt_ds), 'Was voted as helpful')"
   ]
  },
  {
   "cell_type": "markdown",
   "id": "10584c32",
   "metadata": {},
   "source": [
    "## [RQ5] Information about the reviewers\n",
    "\n",
    "Next up, we are going to get informations about who writes these reviews. First of all let's see who are the top 10 most popular\n",
    "reviewers, where, for most popular, we intend the people who wrote more reviews."
   ]
  },
  {
   "cell_type": "code",
   "execution_count": 21,
   "id": "ca2a4e13",
   "metadata": {},
   "outputs": [
    {
     "data": {
      "text/plain": [
       "<AxesSubplot:title={'center':'Most Popular Reviewers'}, xlabel='Author SteamId', ylabel='Amount of Written Reviews'>"
      ]
     },
     "execution_count": 21,
     "metadata": {},
     "output_type": "execute_result"
    },
    {
     "data": {
      "image/png": "[encoded data removed]",
      "text/plain": [
       "<Figure size 432x288 with 1 Axes>"
      ]
     },
     "metadata": {
      "needs_background": "light"
     },
     "output_type": "display_data"
    }
   ],
   "source": [
    "dataset['author.steamid'].value_counts()[:10].plot.bar(title = 'Most Popular Reviewers', color = 'yellow',\n",
    "                                                      xlabel = 'Author SteamId',\n",
    "                                                      ylabel = 'Amount of Written Reviews')"
   ]
  },
  {
   "cell_type": "markdown",
   "id": "530b8448",
   "metadata": {},
   "source": [
    "Here each reviewer is represented by the *SteamId*. This is a unique code which identifies the Steam profile and it cannot be changed once the account has been created. \n",
    "We are now going to focus on the most popular author and get some information about his profile. Let's start by getting his SteamId and taking the rows of the dataset which *steamid* entry corrispond to his:"
   ]
  },
  {
   "cell_type": "code",
   "execution_count": 22,
   "id": "becbd3b0",
   "metadata": {},
   "outputs": [
    {
     "data": {
      "text/plain": [
       "76561198062813911"
      ]
     },
     "execution_count": 22,
     "metadata": {},
     "output_type": "execute_result"
    }
   ],
   "source": [
    "dataset['author.steamid'].value_counts().idxmax()"
   ]
  },
  {
   "cell_type": "code",
   "execution_count": 23,
   "id": "9a1709b0",
   "metadata": {},
   "outputs": [],
   "source": [
    "most_popular_reviewer = dataset[dataset['author.steamid'] == 76561198062813911]"
   ]
  },
  {
   "cell_type": "markdown",
   "id": "acaca881",
   "metadata": {},
   "source": [
    "Now that we got this new dataset, let's see which application did this person review:"
   ]
  },
  {
   "cell_type": "code",
   "execution_count": 24,
   "id": "d8d74f33",
   "metadata": {},
   "outputs": [
    {
     "name": "stdout",
     "output_type": "stream",
     "text": [
      "['Half-Life', 'Counter-Strike: Source', 'Half-Life 2: Episode Two', 'Portal 2', \"Garry's Mod\", \"Sid Meier's Civilization V\", 'Dead by Daylight', \"Sid Meier's Civilization VI\", 'Subnautica', 'Human: Fall Flat', 'Banished', 'Celeste', 'Getting Over It with Bennett Foddy', 'A Hat in Time', 'The Forest', 'Axiom Verge', 'The Binding of Isaac: Rebirth', 'To the Moon', 'Cave Story+', 'Titan Souls', 'Super Meat Boy', \"Don't Escape: 4 Days to Survive\", 'Volgarr the Viking', 'Enter the Gungeon', 'Salt and Sanctuary', 'Hollow Knight', 'The End Is Nigh', 'Factorio', 'RimWorld', 'Insurgency: Sandstorm', 'Euro Truck Simulator 2', 'Foundation', 'Kenshi', 'Into the Breach', 'Warhammer: Vermintide 2', 'DOOM Eternal', 'Age of Empires: Definitive Edition', 'Void Bastards', 'Stardew Valley', 'Among Us', 'Blackwake', 'Little Nightmares', 'Bomber Crew', 'Rust', 'HITMAN™ 2', 'Phasmophobia', 'Mount & Blade: Warband', 'Resident Evil 2', 'Slime Rancher', 'Hotline Miami', 'Tomb Raider', 'BattleBlock Theater', 'Dishonored', 'South Park™: The Stick of Truth™', 'Undertale', \"Don't Starve\", 'Rocket League', 'Dead Cells', 'Broforce', 'The Wolf Among Us', 'The Walking Dead', 'One Finger Death Punch', 'Oxygen Not Included', 'Cuphead', 'ULTRAKILL', 'Castle Crashers', 'Townscaper', 'Papers, Please', 'GRIS', 'DUSK', 'Outlast', 'FTL: Faster Than Light', 'Dying Light', 'American Truck Simulator', 'Saints Row: The Third', 'STAR WARS™ Empire at War: Gold Pack', 'Age of Empires II (2013)', 'Super Hexagon', 'BioShock Infinite', 'DOOM', 'Black Mesa', 'Finding Paradise', 'Keep Talking and Nobody Explodes', 'Duck Game', 'Mark of the Ninja', 'Phoenix Wright: Ace Attorney Trilogy', 'Gunpoint', \"PLAYERUNKNOWN'S BATTLEGROUNDS\", 'Monster Hunter: World', 'The Elder Scrolls Online', 'Total War: WARHAMMER II', 'Cities: Skylines', 'Stellaris', 'Black Desert Online', 'Kingdom Come: Deliverance', 'Jurassic World Evolution', 'ARK: Survival Evolved', \"No Man's Sky\", 'Frostpunk', 'Fallout 4', 'DARK SOULS™ III', 'Rise of the Tomb Raider', 'Middle-earth™: Shadow of War™', 'Hearts of Iron IV', 'They Are Billions', 'Total War Saga: Thrones of Britannia', 'Total War: ROME II - Emperor Edition', 'Terraria', 'PAYDAY 2', 'XCOM 2', 'Deep Rock Galactic', 'Hunt: Showdown', 'Conan Exiles', 'Two Point Hospital', 'Total War: WARHAMMER', 'The Elder Scrolls V: Skyrim Special Edition', 'NieR:Automata™', 'House Flipper', 'Surviving Mars', 'Ni no Kuni™ II: Revenant Kingdom', 'Railway Empire', 'Rise of Industry', 'Devil May Cry HD Collection', 'Heroes of Hammerwatch', 'Ghost of a Tale', 'Ancestors Legacy', 'FAR: Lone Sails', 'Totally Accurate Battlegrounds', 'Vampyr', 'Yakuza 0', 'Thief Simulator', 'Darksiders III', 'Mutant Year Zero: Road to Eden', 'Just Cause 4', 'Planet Coaster', 'Nioh: Complete Edition', 'Europa Universalis IV', 'Just Cause 3', 'Resident Evil 7 Biohazard', 'Urban Empire', 'Youtubers Life', 'Night in the Woods', 'Northgard', 'Sniper Elite 4', 'Hollow Knight', 'Day of Infamy', 'SimAirport', 'Dead Rising 4', 'Styx: Shards of Darkness']\n"
     ]
    }
   ],
   "source": [
    "print(list(most_popular_reviewer['app_name']))"
   ]
  },
  {
   "cell_type": "markdown",
   "id": "f5556e2f",
   "metadata": {},
   "source": [
    "We now want to check how many of these applications were purchased on steam and how many were received for free (It is important to notice that these two events are not complementary since a person can buy a game on a 3rd party platform so both entries can be *False*):"
   ]
  },
  {
   "cell_type": "code",
   "execution_count": 25,
   "id": "6f119fb8",
   "metadata": {},
   "outputs": [
    {
     "data": {
      "image/png": "[encoded data removed]",
      "text/plain": [
       "<Figure size 432x288 with 2 Axes>"
      ]
     },
     "metadata": {
      "needs_background": "light"
     },
     "output_type": "display_data"
    }
   ],
   "source": [
    "plot_and_count(most_popular_reviewer,received_for_free_percentage(most_popular_reviewer), 'received_for_free',\n",
    "              my_title = 'Was Received for free', xlabel = 'Received for free')\n"
   ]
  },
  {
   "cell_type": "code",
   "execution_count": 26,
   "id": "94ce9829",
   "metadata": {},
   "outputs": [
    {
     "data": {
      "image/png": "[encoded data removed]",
      "text/plain": [
       "<Figure size 432x288 with 2 Axes>"
      ]
     },
     "metadata": {
      "needs_background": "light"
     },
     "output_type": "display_data"
    }
   ],
   "source": [
    "plot_and_count(most_popular_reviewer,steam_purchase_percentage(most_popular_reviewer), 'steam_purchase',\n",
    "              my_title = 'Was Purchased on Steam', xlabel = 'Purchased on Steam')"
   ]
  },
  {
   "cell_type": "markdown",
   "id": "4768a5eb",
   "metadata": {},
   "source": [
    "Let's give a look, for each of these categories, how many games did he recommend. To see this, just like before, we filtered the dataset by focusing on the reviews that matched our demands, and did a simple *value_counts* to count the number of recommended games. These are the results:"
   ]
  },
  {
   "cell_type": "code",
   "execution_count": 27,
   "id": "14c91a9f",
   "metadata": {},
   "outputs": [
    {
     "data": {
      "text/plain": [
       "True     108\n",
       "False      2\n",
       "Name: recommended, dtype: int64"
      ]
     },
     "execution_count": 27,
     "metadata": {},
     "output_type": "execute_result"
    }
   ],
   "source": [
    "most_popular_reviewer[most_popular_reviewer['steam_purchase'] == True].recommended.value_counts()"
   ]
  },
  {
   "cell_type": "code",
   "execution_count": 28,
   "id": "23a738c1",
   "metadata": {},
   "outputs": [
    {
     "data": {
      "text/plain": [
       "True    4\n",
       "Name: recommended, dtype: int64"
      ]
     },
     "execution_count": 28,
     "metadata": {},
     "output_type": "execute_result"
    }
   ],
   "source": [
    "most_popular_reviewer[most_popular_reviewer['received_for_free'] == True].recommended.value_counts()"
   ]
  },
  {
   "cell_type": "markdown",
   "id": "28ca3804",
   "metadata": {},
   "source": [
    "**Steam Purchased Games**\n",
    "\n",
    "|Recommendend  |Amount|\n",
    "|------------|--------|\n",
    "|True | 108|\n",
    "|False | 2 |"
   ]
  },
  {
   "cell_type": "markdown",
   "id": "263b95be",
   "metadata": {},
   "source": [
    "**Received for Free Games**\n",
    "\n",
    "|Recommendend  |Amount|\n",
    "|------------|--------|\n",
    "|True | 4|\n",
    "|False | 0 |"
   ]
  },
  {
   "cell_type": "markdown",
   "id": "6534c7ec",
   "metadata": {},
   "source": [
    "## [RQ6] Information about the updates\n",
    "\n",
    "We now want to obtain information about authors who update their reviews. To do this we filtered the dataset with the rows which have different values in the **timestamp_created** and **timestamp_updated** columns (this means that the review was actually updated after some time). Then we want to calculate the average amount time an author lets pass before he updates his review. To do this we simply calculated the mean on a vector that contains the time difference between the **timestamp_created** and **timestamp_updated** columns of this new dataset."
   ]
  },
  {
   "cell_type": "code",
   "execution_count": 29,
   "id": "fe19c4ec",
   "metadata": {},
   "outputs": [
    {
     "data": {
      "text/plain": [
       "Timedelta('321 days 00:46:24.845186976')"
      ]
     },
     "execution_count": 29,
     "metadata": {},
     "output_type": "execute_result"
    }
   ],
   "source": [
    "dataset_with_updates = dataset[dataset['timestamp_updated'] != dataset['timestamp_created']]\n",
    "(dataset_with_updates['timestamp_updated'] -dataset_with_updates['timestamp_created']).mean()"
   ]
  },
  {
   "cell_type": "markdown",
   "id": "7904ff90",
   "metadata": {},
   "source": [
    "We obtained that the average time an user lets pass before updating his review is **321 days and 46 minutes**.\n",
    "Another information we may want to have is to find the authors which updates their reviews more often. To do this we simply did a *value_counts* on the *author.steamid* column of the new dataset and plotted the first 3. Here are the results:"
   ]
  },
  {
   "cell_type": "code",
   "execution_count": 30,
   "id": "e3143d7e",
   "metadata": {},
   "outputs": [
    {
     "data": {
      "text/plain": [
       "<AxesSubplot:title={'center':'Authors Which Updates Their Reviews'}, xlabel='Author SteamId', ylabel='Number of Updated Reviews'>"
      ]
     },
     "execution_count": 30,
     "metadata": {},
     "output_type": "execute_result"
    },
    {
     "data": {
      "image/png": "[encoded data removed]",
      "text/plain": [
       "<Figure size 432x288 with 1 Axes>"
      ]
     },
     "metadata": {
      "needs_background": "light"
     },
     "output_type": "display_data"
    }
   ],
   "source": [
    "dataset_with_updates['author.steamid'].value_counts()[:3].plot.bar(title = 'Authors Which Updates Their Reviews', color = 'indianred',\n",
    "                                                                  xlabel = 'Author SteamId',\n",
    "                                                                  ylabel = 'Number of Updated Reviews')"
   ]
  },
  {
   "cell_type": "markdown",
   "id": "a0d3162a",
   "metadata": {},
   "source": [
    "## [RQ7] Calculating some probabilities\n",
    "\n",
    "Let's calculate some interesting figures with our dataset.\n",
    "First of all let's calculate the probability that a review has a **Weighted Vote Score** bigger than 0.5. To do this, given the amount of data we have, we can use the *Law of Big Numbers* and simply calculate the ratio between the reviews that have a *Weighted Vote Score* bigger than 0.5 and the total number of reviews. Here is the result:"
   ]
  },
  {
   "cell_type": "code",
   "execution_count": 31,
   "id": "2dfbf980",
   "metadata": {},
   "outputs": [
    {
     "name": "stdout",
     "output_type": "stream",
     "text": [
      "None\n"
     ]
    },
    {
     "data": {
      "image/png": "[encoded data removed]",
      "text/plain": [
       "<Figure size 432x288 with 1 Axes>"
      ]
     },
     "metadata": {},
     "output_type": "display_data"
    }
   ],
   "source": [
    "print(plot_percentage(weighted_vote_score_percentage(dataset), 'Has a Weighted Vote Score bigger than 0.5'))"
   ]
  },
  {
   "cell_type": "markdown",
   "id": "5671c66e",
   "metadata": {},
   "source": [
    "Now let's calculate the probability that a review has at least one vote as funny given that it has a *Weighted Vote Score* bigger than 0.5. To do this we filtered the dataset by only taking the rows that had a *Weighted Vote Score* bigger than 0.5 and use the *funny_percentage* custom function we used before on this new dataset. Here is the result:"
   ]
  },
  {
   "cell_type": "code",
   "execution_count": 32,
   "id": "64a87d5a",
   "metadata": {},
   "outputs": [
    {
     "name": "stdout",
     "output_type": "stream",
     "text": [
      "None\n"
     ]
    },
    {
     "data": {
      "image/png": "[encoded data removed]",
      "text/plain": [
       "<Figure size 432x288 with 1 Axes>"
      ]
     },
     "metadata": {},
     "output_type": "display_data"
    }
   ],
   "source": [
    "print(plot_percentage(funny_vote_given_score(dataset), 'Voted as funny reviews with WVS bigger than 0.5'))"
   ]
  },
  {
   "cell_type": "markdown",
   "id": "b87a18c5",
   "metadata": {},
   "source": [
    "We know want to know if the events:\n",
    "\n",
    "**A** = {the review has at least one vote as funny}\n",
    "\n",
    "**B** = {the review has a weighted vote score >= 0.5}\n",
    "\n",
    "are independent.\n",
    "To do this we used the definition of conditional probability and checked if \n",
    "P(**A** | **B**) = P(**A**)   by calculating the difference between the two values and look if it is close to zero."
   ]
  },
  {
   "cell_type": "code",
   "execution_count": 33,
   "id": "0da61045",
   "metadata": {},
   "outputs": [
    {
     "name": "stdout",
     "output_type": "stream",
     "text": [
      "0.13008694980617397\n"
     ]
    }
   ],
   "source": [
    "print(funny_vote_given_score(dataset) - funny_percentage(dataset))"
   ]
  },
  {
   "cell_type": "markdown",
   "id": "7249c6d2",
   "metadata": {},
   "source": [
    "As we can see their difference is not even close to zero so we can conclude that the two events are **not** independent."
   ]
  },
  {
   "cell_type": "markdown",
   "id": "5585c851",
   "metadata": {},
   "source": [
    "## [RQ8] Statistical Tests and Analysis\n",
    "\n",
    "We checked if there is a significant difference between some distribution of values in the dataset.\n",
    "The first one we checked for was a difference in the Weighted Vote Score of reviews made in Chinese and the ones made in Russian.\n",
    "First we took the rows of the dataset which language values were the ones we were interested in and separated the two. From these new two datasets we then took the *weighted_vote_score* and made them *numpy* vectors so that we could run some test on them. The test we chose is the **mannwhitneyu** which is a test for the null hypothesis that the two samples have the same distribution. These are the results:"
   ]
  },
  {
   "cell_type": "code",
   "execution_count": 34,
   "id": "d7ef7405",
   "metadata": {},
   "outputs": [],
   "source": [
    "russian_data = dataset[dataset['language'] == 'russian']\n",
    "schinese_data= dataset[dataset['language'] == 'schinese']"
   ]
  },
  {
   "cell_type": "code",
   "execution_count": 35,
   "id": "8c17e268",
   "metadata": {},
   "outputs": [],
   "source": [
    "vector_a = russian_data['weighted_vote_score'].to_numpy()\n",
    "vector_b = schinese_data['weighted_vote_score'].to_numpy()"
   ]
  },
  {
   "cell_type": "code",
   "execution_count": 36,
   "id": "567542b8",
   "metadata": {},
   "outputs": [
    {
     "name": "stdout",
     "output_type": "stream",
     "text": [
      "The test resulted in a P-Value of 0.0\n"
     ]
    }
   ],
   "source": [
    "stat, p_value = mannwhitneyu(vector_a,vector_b)\n",
    "print(f\"The test resulted in a P-Value of {p_value}\")"
   ]
  },
  {
   "cell_type": "markdown",
   "id": "2f0ab660",
   "metadata": {},
   "source": [
    "As we can see the test approximated the resulting P-Value to zero, so we can reject the test hypotesis without almost any doubt. This means that the *Weighted Vote Score* of *Russian* and *Chinese* reviews have different distributions.\n",
    "\n",
    "Then we checked if there was any correlation between the time a user lets pass before he updates his review and the Weighted Vote Score. To do this we took the reviews of the dataset which were updated (so the ones were the *timestamp_created* and the *timestamp_updated* values were different) and then did a **pearsonr** test which checks for a linear correlation between two samples. Here are the results:"
   ]
  },
  {
   "cell_type": "code",
   "execution_count": 37,
   "id": "70736a28",
   "metadata": {},
   "outputs": [],
   "source": [
    "updated_dataset = dataset[dataset['timestamp_created'] != dataset['timestamp_updated']]"
   ]
  },
  {
   "cell_type": "code",
   "execution_count": 38,
   "id": "a9f34f4b",
   "metadata": {},
   "outputs": [],
   "source": [
    "timedelta = (updated_dataset['timestamp_updated']-updated_dataset['timestamp_created']).apply(lambda x: x.value)\n",
    "score = updated_dataset['weighted_vote_score']"
   ]
  },
  {
   "cell_type": "code",
   "execution_count": 39,
   "id": "28d3f015",
   "metadata": {},
   "outputs": [
    {
     "name": "stdout",
     "output_type": "stream",
     "text": [
      "The correlation value of the two samples is -0.03626372436285605 with a P-Value of 0.0\n"
     ]
    }
   ],
   "source": [
    "correlation,p_value = pearsonr(timedelta,score)\n",
    "print(f\"The correlation value of the two samples is {correlation} with a P-Value of {p_value}\")"
   ]
  },
  {
   "cell_type": "markdown",
   "id": "5db92a8f",
   "metadata": {},
   "source": [
    "For this case we can see there is little to none correlation.\n",
    "\n",
    "Lastly we checked if there is any difference in the results if we include the information of wether the game is recommended or not. We run the same **pearonr** test, this time separating the dataset in two sub-dataframes, one with the recommended games and the other with non-recommended games. These are the results:"
   ]
  },
  {
   "cell_type": "code",
   "execution_count": 40,
   "id": "6c921ce7",
   "metadata": {},
   "outputs": [],
   "source": [
    "updated_and_recom = updated_dataset[updated_dataset['recommended'] == True]\n",
    "updated_and_not_recom = updated_dataset[updated_dataset['recommended'] == False]\n",
    "\n",
    "recom_timedelta = (updated_and_recom['timestamp_updated']-updated_and_recom['timestamp_created']).apply(lambda x: x.value)\n",
    "recom_score = updated_and_recom['weighted_vote_score']\n",
    "\n",
    "not_recom_timedelta = (updated_and_not_recom['timestamp_updated']-updated_and_not_recom['timestamp_created']).apply(lambda x: x.value)\n",
    "not_recom_score = updated_and_not_recom['weighted_vote_score']"
   ]
  },
  {
   "cell_type": "code",
   "execution_count": 41,
   "id": "4ee2f9e2",
   "metadata": {},
   "outputs": [
    {
     "name": "stdout",
     "output_type": "stream",
     "text": [
      "In the case of recommendend games,the correlation value of the two samples is -0.017765209247397284 with a P-Value of 1.085724332241917e-135\n"
     ]
    }
   ],
   "source": [
    "correlation1,p_value1 = pearsonr(recom_timedelta,recom_score)\n",
    "print(f\"In the case of recommendend games,the correlation value of the two samples is {correlation1} with a P-Value of {p_value1}\")"
   ]
  },
  {
   "cell_type": "code",
   "execution_count": 42,
   "id": "4c763544",
   "metadata": {},
   "outputs": [
    {
     "name": "stdout",
     "output_type": "stream",
     "text": [
      "In the case of recommendend games,the correlation value of the two samples is -0.0961419760851828 with a P-Value of 0.0\n"
     ]
    }
   ],
   "source": [
    "correlation2,p_value2 = pearsonr(not_recom_timedelta,not_recom_score)\n",
    "print(f\"In the case of recommendend games,the correlation value of the two samples is {correlation2} with a P-Value of {p_value2}\")"
   ]
  },
  {
   "cell_type": "markdown",
   "id": "ee678ec1",
   "metadata": {},
   "source": [
    "We can see that also in these case, there is very little correlation between the two values."
   ]
  },
  {
   "cell_type": "markdown",
   "id": "37cd7559",
   "metadata": {},
   "source": [
    "### Bonus Questions"
   ]
  },
  {
   "cell_type": "markdown",
   "id": "225a8295",
   "metadata": {},
   "source": [
    "#### What are histograms, bar plots, scatterplots and pie charts used for?"
   ]
  },
  {
   "cell_type": "markdown",
   "id": "9aa9bd43",
   "metadata": {},
   "source": [
    "##### Histograms"
   ]
  },
  {
   "cell_type": "markdown",
   "id": "67baa07c",
   "metadata": {},
   "source": [
    "Histograms are used to visualize **quantitative data** and their distribution. The data is divided in bins which can be of different length and for each bin we have a column that displays how many values are in that bin.\n",
    "This is a histogram of the positive weighted vote scores of the dataset:"
   ]
  },
  {
   "cell_type": "code",
   "execution_count": 43,
   "id": "ac146dff",
   "metadata": {},
   "outputs": [
    {
     "data": {
      "text/plain": [
       "<function matplotlib.pyplot.show(close=None, block=None)>"
      ]
     },
     "execution_count": 43,
     "metadata": {},
     "output_type": "execute_result"
    },
    {
     "data": {
      "image/png": "[encoded data removed]",
      "text/plain": [
       "<Figure size 576x216 with 1 Axes>"
      ]
     },
     "metadata": {
      "needs_background": "light"
     },
     "output_type": "display_data"
    }
   ],
   "source": [
    "plt.figure(figsize = (8,3))\n",
    "plt.title('Histogram')\n",
    "plt.hist(dataset[dataset['weighted_vote_score'] != 0]['weighted_vote_score'], color = 'red')\n",
    "plt.show"
   ]
  },
  {
   "cell_type": "markdown",
   "id": "c45f74ae",
   "metadata": {},
   "source": [
    "##### Bar Plots\n",
    "\n",
    "Bar Plots are used to display **categorical data** grouping it in discrete groups. It is formed by rectangular bars which height is proportional to the number of elements that belong in that category. This is a bar plot of the languages used in the reviews:\n"
   ]
  },
  {
   "cell_type": "code",
   "execution_count": 44,
   "id": "9e24c595",
   "metadata": {},
   "outputs": [
    {
     "data": {
      "text/plain": [
       "<AxesSubplot:title={'center':'Bar Plot'}>"
      ]
     },
     "execution_count": 44,
     "metadata": {},
     "output_type": "execute_result"
    },
    {
     "data": {
      "image/png": "[encoded data removed]",
      "text/plain": [
       "<Figure size 1512x576 with 1 Axes>"
      ]
     },
     "metadata": {
      "needs_background": "light"
     },
     "output_type": "display_data"
    }
   ],
   "source": [
    "dataset['language'].value_counts().plot.bar(figsize = (21,8), color = 'green', title = 'Bar Plot')"
   ]
  },
  {
   "cell_type": "markdown",
   "id": "28a6aca8",
   "metadata": {},
   "source": [
    "##### Scatterplots\n",
    "\n",
    "Scatterplots are mathematical diagram using **Cartesian coordinates** to display values for more than 1 variable. The data are displayed as a collection of points and each point has coordinates determined by its values in the variables taken in consideration. \n",
    "This is a scatterplot of the *votes_funny* and the *votes_helpful*:"
   ]
  },
  {
   "cell_type": "code",
   "execution_count": 45,
   "id": "2d06c204",
   "metadata": {},
   "outputs": [
    {
     "data": {
      "text/plain": [
       "<function matplotlib.pyplot.show(close=None, block=None)>"
      ]
     },
     "execution_count": 45,
     "metadata": {},
     "output_type": "execute_result"
    },
    {
     "data": {
      "image/png": "[encoded data removed]",
      "text/plain": [
       "<Figure size 576x360 with 1 Axes>"
      ]
     },
     "metadata": {
      "needs_background": "light"
     },
     "output_type": "display_data"
    }
   ],
   "source": [
    "plt.figure(figsize = (8,5))\n",
    "plt.title('Scatter Plot')\n",
    "plt.xlabel('Votes as helpful')\n",
    "plt.ylabel('Votes as funny')\n",
    "test_data = dataset[(dataset['votes_funny'] < 1000) & (dataset['votes_helpful'] <1000)]\n",
    "plt.scatter(test_data['votes_helpful'], test_data['votes_funny'])\n",
    "plt.show"
   ]
  },
  {
   "cell_type": "markdown",
   "id": "fcde4d0b",
   "metadata": {},
   "source": [
    "##### Pie Charts\n",
    "\n",
    "Pie Charts are circular graphics were each slice represent a **numerical proportion**. The arc-length of each slice is proportional to the quantity it represents. It is mostly used to represent **categorical data**. This is a pie chart of the reviews who were voted as funny:"
   ]
  },
  {
   "cell_type": "code",
   "execution_count": 46,
   "id": "a7ea5141",
   "metadata": {},
   "outputs": [
    {
     "data": {
      "image/png": "[encoded data removed]",
      "text/plain": [
       "<Figure size 432x288 with 1 Axes>"
      ]
     },
     "metadata": {},
     "output_type": "display_data"
    }
   ],
   "source": [
    "plot_percentage(funny_percentage(dataset), 'Was voted as funny')"
   ]
  },
  {
   "cell_type": "markdown",
   "id": "ed16635d",
   "metadata": {},
   "source": [
    "#### What insights can you extract from a Box Plot?\n",
    "\n",
    "Boxplots provides information about the variability of the value taken in consideration, his distribution, his median, upper and lower quartiles, minimum and maximum and also the outliers in the dataset. The boxplot is created using a number or ratio field on the y-axis."
   ]
  },
  {
   "cell_type": "markdown",
   "id": "7c0391c9",
   "metadata": {},
   "source": [
    "## Theoretical Questions"
   ]
  },
  {
   "cell_type": "markdown",
   "id": "fe4c5358",
   "metadata": {},
   "source": [
    "## [TQ1]"
   ]
  },
  {
   "cell_type": "markdown",
   "id": "dfe1d80a",
   "metadata": {},
   "source": [
    "We are given the following algorithm.\n",
    "\n",
    "```Input: \n",
    "    A: array of length n\n",
    "    k: integers between 1 and n\n",
    "    \n",
    "function alg(A, k):\n",
    "  s <-- a random element of A\n",
    "  set L = [all the elements of A with value <= s]\n",
    "  set R = [all the elements of A with value > s]\n",
    "  r = len(L)\n",
    "  if k == r:\n",
    "    return s\n",
    "  else if k < r:  \n",
    "    return alg(L, k)\n",
    "  else:\n",
    "    return alg(R, k - r)\n",
    "\n",
    "```\n",
    "    \n",
    "1. What does the algorithm compute?   \n",
    "\n",
    "Given an array A of length n and an integer k between 1 and n the algorithm finds the k-th smallest value of A.\n",
    "\n",
    "2. What is asymptotically (i.e., we are asking for big-O complexity) the running time of the algorithm in the worst case, as a function of n?\n",
    "\n",
    "The worst case is the one where the sub-array we are going to compute the algorithm on again has length n-1. Since T(n) for a single iteration is **T(n)= 2n+4** in this case we'll have a total computational time of:\n",
    "**T(n)** = (2n+4) + (2(n-1)+4) + (2(n-2)+4) + ... + (2(2)+1) + (2(1)+1) = An^2 + Bn + C = **O(n^2)**\n",
    "\n",
    "3. What is asymptotically the running time of the algorithm in the best case?\n",
    "\n",
    "The best case scenario is the one where we find the element we want at the first iteration. In that case the running time of the algorithm is:\n",
    "**T(n)** = 2n+2 = **O(n)**\n"
   ]
  },
  {
   "cell_type": "markdown",
   "id": "ae5356c9",
   "metadata": {},
   "source": [
    "## [TQ2]\n",
    "\n",
    "You are given the recursive function splitSwap, which accepts an array a, an index i, and a length n (We are taking n as a power of 2).\n",
    "\n",
    "\n",
    "```function splitSwap(a, l, n):\n",
    "  if n <= 1:\n",
    "    return\n",
    "  splitSwap(a, l, n/2)\n",
    "  splitSwap(a, l+ n /2, n/2)\n",
    "  swapList(a, l, n)\n",
    "```\n",
    "The subroutine swapList is described here:\n",
    "```function swapList(a, l, n):\n",
    "  for i = 0 to n/2:\n",
    "    tmp = a[l + i]\n",
    "    a[l + i] = a[l + n/2 + i]\n",
    "    a[l + n/2 + i] = tmp\n",
    "```\n",
    "\n",
    "\n",
    "\n",
    "1. How much running time does it take to execute splitSwap(a, 0, n)?\n",
    "\n",
    "The algorithm swapList has a running time of **T(n) = 3n / 2 = O(n)**. The algorithm splitSwap recursively calls itself until the index n reaches 1. This happens log_2(n) times. After t=log_2(n) we will have to call swapList 2^t = n times but with an input of size 1. After that we call again swapList 2^(t-1) =n/2 times with an input of size 2.\n",
    "In the end we will end up with a running time of:\n",
    "\n",
    "**T(n)** = sum(i=0, log_2(n)) : 2^(log_2(n)-i) * 3(2^i)/2   =   n * sum(i=0, log_2(n)): 3(2^i)/2(2^i) = 3n * log_2(n)/2 = **O(nlog(n))**\n",
    "\n",
    "\n",
    "2. What does this algorithm do? Is it optimal? Describe the mechanism of the algorithm in details.\n",
    "\n",
    "The first thing the algotithm does is divide the array in n sub-arrays of length one. In this phase the swapList routine does nothing because we give as an input an array of length one. Then we couple the sub-arrays and end up with n/2 sub-arrays of length 2. The swapList routine here swaps (for each sub-arrays) the 2 elements. Then we couple again the new sub-arrays and obtain n/4 sub-arrays of length 4. Here we swap the two halves of the sub-array, this time starting from the index l. We do this until we get an array of length n and apply swapList from the index l one last time. The algorithm is optimal.\n",
    "\n"
   ]
  },
  {
   "cell_type": "markdown",
   "id": "0f0e6377-176a-4a28-be3f-ac3d70c46eaa",
   "metadata": {},
   "source": [
    "## [TQ3]"
   ]
  },
  {
   "cell_type": "markdown",
   "id": "42434269-f3d6-4ee0-b299-d5b9052f1ea2",
   "metadata": {},
   "source": [
    "In the knapsack problem we are given n objects and each object *i* has a weight *w_i* and a value *v_i*. We are also given a weight budget *W*. The problem is to select a set of objects with total weight bounded by W that maximized the sum of their values.\n",
    "We considered three different natural heuristics and for each of them we provided a counterexample, that is, an example of a problem instance in which the heuristic fails to provide the optimal solution.\n",
    "\n",
    "1) The first natural heuristic that we considered, makes us order the objects in increasing order of weight and then visit them sequentially, adding them to the solution as long as the budget is not exceeded. \n",
    "\n",
    "Let **W = 20** and, for example, let's take the following values and weights:\n",
    "\n",
    "OBJECT | *v_i* | *w_i* | *v_i*/*w_i* \n",
    "--- | --- | --- | --- \n",
    "A | 3 | 10 | 3/10 \n",
    "B | 5 | 8 | 5/8 \n",
    "C | 1 | 6 | 1/6 \n",
    "D | 4 | 2 | 2\n",
    "\n",
    "Considering the increasing order of weight, we obtain **DCBA**. Let's focus on its features:\n",
    "* D[w_i] = 2, so we can go on;\n",
    "* D[w_i] + C[w_i] = 2 + 6 = 8, so we can go on;\n",
    "* D[w_i] + C[w_i] + B[w_i] = 2 + 6 + 8 = 16, so we can go on;\n",
    "* D[w_i] + C[w_i] + B[w_i] + A[w_i] = 2 + 6 + 8 + 10 = 26 BUT this exceeds the budget so we must stop here.\n",
    "\n",
    "Finally, the solution is **DCB**.\n",
    "\n",
    "This solutions has *w_i* = 16 and *v_i* = 10, but this isn't optimal because, for example, it exists the solution **ABD** which guarantees *w_i* = 20 and *v_i* = 12.\n",
    "2) The second natural heuristic that we considered, makes us order the objects in decreasing order of values, and then visit them sequentially, adding them to the solution if the budget is not exceeded.\n",
    "\n",
    "Let **W=4** and, for example, let's take the following values and weights:\n",
    "\n",
    "OBJECT | *v_i* | *w_i* | *v_i*/*w_i* \n",
    "--- | --- | --- | --- \n",
    "A | 4 | 2 | 2 \n",
    "B | 3 | 2 | 3/2\n",
    "C | 2 | 1 | 2\n",
    "D | 2 | 1 | 2\n",
    "\n",
    "Considering the decreasing order of values, we obtain **ABCD**. Let's focus on its features:\n",
    "* A[w_i] = 2, so we can go on;\n",
    "* A[w_i] + B[w_i] = 2 + 2 = 4, so we add it and stop\n",
    "\n",
    "The solution we get is **AB**. It has *w_i* = 4 and *v_i* = 7. \n",
    "\n",
    "Unfortunately, this solution isn't optimal because, for example, it exists the solution **ABD** which guarantees *w_i* = 4 and *v_i* = 8. \n",
    "\n",
    "\n",
    "\n",
    "3) The third natural heuristic that we considered, makes us order the objects in decreasing order of relative value (*v_i*/*w_i*), and then visit them sequentially, adding them to the solution if the budget is not exceeded.\n",
    "\n",
    "Let **W=7** and, for example, let's take the following values and weights:\n",
    "\n",
    "OBJECT | *v_i* | *w_i* | *v_i*/*w_i* \n",
    "--- | --- | --- | --- \n",
    "A | 12 | 6 | 2 \n",
    "B | 10 | 2 | 5 \n",
    "C | 5 | 5 | 1 \n",
    "D | 18 | 1 | 18\n",
    "\n",
    "Considering the decreasing order of relative value, we obtain **DBAC**. Let's focus on its features:\n",
    "* D[w_i] = 1, so we can go on;\n",
    "* D[w_i] + B[w_i] = 1 + 2 = 3, so we can go on;\n",
    "* D[w_i] + B[w_i] + A[w_i] = 1 + 2 + 6 = 10 BUT this exceeds the budget so we can't add it;\n",
    "* D[w_i] + B[w_i] + C[w_i] = 1 + 2 + 5 = 8  BUT this exceeds the budget so we can't add it.\n",
    "The solution is **DB** which has *w_i* = 3 and *v_i* = 28. \n",
    "\n",
    "This solution isn't optimal because, for example, it exists the solution **AD** which allows us to get *w_i* = 7 and *v_i* = 30."
   ]
  }
 ],
 "metadata": {
  "interpreter": {
   "hash": "cef9e06bb236b2a8629b07e87a04b187b952a0f661eff5533360a155783f0c33"
  },
  "kernelspec": {
   "display_name": "Python 3",
   "language": "python",
   "name": "python3"
  },
  "language_info": {
   "codemirror_mode": {
    "name": "ipython",
    "version": 3
   },
   "file_extension": ".py",
   "mimetype": "text/x-python",
   "name": "python",
   "nbconvert_exporter": "python",
   "pygments_lexer": "ipython3",
   "version": "3.8.8"
  }
 },
 "nbformat": 4,
 "nbformat_minor": 5
}
